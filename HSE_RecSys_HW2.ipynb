{
 "cells": [
  {
   "cell_type": "markdown",
   "id": "93831896-683d-4946-8cae-7aff56608a65",
   "metadata": {},
   "source": [
    "## ДЗ №2. Матричные факторизации"
   ]
  },
  {
   "cell_type": "markdown",
   "id": "03b424ec-3791-4113-a672-25ef7cfa704d",
   "metadata": {},
   "source": [
    "#### В этой домашке вам предстоит реализовать некоторые базовые модели матричной факторизации\n",
    "\n",
    "#### Дата выдачи: 17.02.25\n",
    "\n",
    "#### Мягкий дедлайн: 02.03.25 23:59 MSK\n",
    "\n",
    "#### Жесткий дедлайн: 09.03.25 23:59 MSK"
   ]
  },
  {
   "cell_type": "markdown",
   "id": "d8f4b315-75b8-4225-953c-5510c584ff2b",
   "metadata": {},
   "source": [
    "В этом задании мы будем работать с классическим для рекоендательных систем датасетом [MovieLens 1M](https://grouplens.org/datasets/movielens/1m/). Датасет содержит рейтинги оценки для 4000 фильмов от 6000 пользователей. Более подробное описание можете найти на странице с датасетом и в README файле"
   ]
  },
  {
   "cell_type": "code",
   "execution_count": 1,
   "id": "f5a85f84-4854-4249-963d-143d08bb7e36",
   "metadata": {},
   "outputs": [
    {
     "name": "stdout",
     "output_type": "stream",
     "text": [
      "  % Total    % Received % Xferd  Average Speed   Time    Time     Time  Current\n",
      "                                 Dload  Upload   Total   Spent    Left  Speed\n",
      "100 5778k  100 5778k    0     0  1115k      0  0:00:05  0:00:05 --:--:-- 1396k\n",
      "Archive:  ml-1m.zip\n",
      "  inflating: ml-1m/movies.dat        \n",
      "  inflating: ml-1m/ratings.dat       \n",
      "  inflating: ml-1m/README            \n",
      "  inflating: ml-1m/users.dat         \n",
      "SUMMARY\n",
      "================================================================================\n",
      "\n",
      "These files contain 1,000,209 anonymous ratings of approximately 3,900 movies \n",
      "made by 6,040 MovieLens users who joined MovieLens in 2000.\n",
      "\n",
      "USAGE LICENSE\n",
      "================================================================================\n",
      "\n",
      "Neither the University of Minnesota nor any of the researchers\n",
      "involved can guarantee the correctness of the data, its suitability\n",
      "for any particular purpose, or the validity of results based on the\n",
      "use of the data set.  The data set may be used for any research\n",
      "purposes under the following conditions:\n",
      "\n",
      "     * The user may not state or imply any endorsement from the\n",
      "       University of Minnesota or the GroupLens Research Group.\n",
      "\n",
      "     * The user must acknowledge the use of the data set in\n",
      "       publications resulting from the use of the data set\n",
      "       (see below for citation information).\n",
      "\n",
      "     * The user may not redistribute the data without separate\n",
      "       permission.\n",
      "\n",
      "     * The user may not use this information for any commercial or\n",
      "       revenue-bearing purposes without first obtaining permission\n",
      "       from a faculty member of the GroupLens Research Project at the\n",
      "       University of Minnesota.\n",
      "\n",
      "If you have any further questions or comments, please contact GroupLens\n",
      "<grouplens-info@cs.umn.edu>. \n",
      "\n",
      "CITATION\n",
      "================================================================================\n",
      "\n",
      "To acknowledge use of the dataset in publications, please cite the following\n",
      "paper:\n",
      "\n",
      "F. Maxwell Harper and Joseph A. Konstan. 2015. The MovieLens Datasets: History\n",
      "and Context. ACM Transactions on Interactive Intelligent Systems (TiiS) 5, 4,\n",
      "Article 19 (December 2015), 19 pages. DOI=http://dx.doi.org/10.1145/2827872\n",
      "\n",
      "\n",
      "ACKNOWLEDGEMENTS\n",
      "================================================================================\n",
      "\n",
      "Thanks to Shyong Lam and Jon Herlocker for cleaning up and generating the data\n",
      "set.\n",
      "\n",
      "FURTHER INFORMATION ABOUT THE GROUPLENS RESEARCH PROJECT\n",
      "================================================================================\n",
      "\n",
      "The GroupLens Research Project is a research group in the Department of \n",
      "Computer Science and Engineering at the University of Minnesota. Members of \n",
      "the GroupLens Research Project are involved in many research projects related \n",
      "to the fields of information filtering, collaborative filtering, and \n",
      "recommender systems. The project is lead by professors John Riedl and Joseph \n",
      "Konstan. The project began to explore automated collaborative filtering in \n",
      "1992, but is most well known for its world wide trial of an automated \n",
      "collaborative filtering system for Usenet news in 1996. Since then the project \n",
      "has expanded its scope to research overall information filtering solutions, \n",
      "integrating in content-based methods as well as improving current collaborative \n",
      "filtering technology.\n",
      "\n",
      "Further information on the GroupLens Research project, including research \n",
      "publications, can be found at the following web site:\n",
      "        \n",
      "        http://www.grouplens.org/\n",
      "\n",
      "GroupLens Research currently operates a movie recommender based on \n",
      "collaborative filtering:\n",
      "\n",
      "        http://www.movielens.org/\n",
      "\n",
      "RATINGS FILE DESCRIPTION\n",
      "================================================================================\n",
      "\n",
      "All ratings are contained in the file \"ratings.dat\" and are in the\n",
      "following format:\n",
      "\n",
      "UserID::MovieID::Rating::Timestamp\n",
      "\n",
      "- UserIDs range between 1 and 6040 \n",
      "- MovieIDs range between 1 and 3952\n",
      "- Ratings are made on a 5-star scale (whole-star ratings only)\n",
      "- Timestamp is represented in seconds since the epoch as returned by time(2)\n",
      "- Each user has at least 20 ratings\n",
      "\n",
      "USERS FILE DESCRIPTION\n",
      "================================================================================\n",
      "\n",
      "User information is in the file \"users.dat\" and is in the following\n",
      "format:\n",
      "\n",
      "UserID::Gender::Age::Occupation::Zip-code\n",
      "\n",
      "All demographic information is provided voluntarily by the users and is\n",
      "not checked for accuracy.  Only users who have provided some demographic\n",
      "information are included in this data set.\n",
      "\n",
      "- Gender is denoted by a \"M\" for male and \"F\" for female\n",
      "- Age is chosen from the following ranges:\n",
      "\n",
      "\t*  1:  \"Under 18\"\n",
      "\t* 18:  \"18-24\"\n",
      "\t* 25:  \"25-34\"\n",
      "\t* 35:  \"35-44\"\n",
      "\t* 45:  \"45-49\"\n",
      "\t* 50:  \"50-55\"\n",
      "\t* 56:  \"56+\"\n",
      "\n",
      "- Occupation is chosen from the following choices:\n",
      "\n",
      "\t*  0:  \"other\" or not specified\n",
      "\t*  1:  \"academic/educator\"\n",
      "\t*  2:  \"artist\"\n",
      "\t*  3:  \"clerical/admin\"\n",
      "\t*  4:  \"college/grad student\"\n",
      "\t*  5:  \"customer service\"\n",
      "\t*  6:  \"doctor/health care\"\n",
      "\t*  7:  \"executive/managerial\"\n",
      "\t*  8:  \"farmer\"\n",
      "\t*  9:  \"homemaker\"\n",
      "\t* 10:  \"K-12 student\"\n",
      "\t* 11:  \"lawyer\"\n",
      "\t* 12:  \"programmer\"\n",
      "\t* 13:  \"retired\"\n",
      "\t* 14:  \"sales/marketing\"\n",
      "\t* 15:  \"scientist\"\n",
      "\t* 16:  \"self-employed\"\n",
      "\t* 17:  \"technician/engineer\"\n",
      "\t* 18:  \"tradesman/craftsman\"\n",
      "\t* 19:  \"unemployed\"\n",
      "\t* 20:  \"writer\"\n",
      "\n",
      "MOVIES FILE DESCRIPTION\n",
      "================================================================================\n",
      "\n",
      "Movie information is in the file \"movies.dat\" and is in the following\n",
      "format:\n",
      "\n",
      "MovieID::Title::Genres\n",
      "\n",
      "- Titles are identical to titles provided by the IMDB (including\n",
      "year of release)\n",
      "- Genres are pipe-separated and are selected from the following genres:\n",
      "\n",
      "\t* Action\n",
      "\t* Adventure\n",
      "\t* Animation\n",
      "\t* Children's\n",
      "\t* Comedy\n",
      "\t* Crime\n",
      "\t* Documentary\n",
      "\t* Drama\n",
      "\t* Fantasy\n",
      "\t* Film-Noir\n",
      "\t* Horror\n",
      "\t* Musical\n",
      "\t* Mystery\n",
      "\t* Romance\n",
      "\t* Sci-Fi\n",
      "\t* Thriller\n",
      "\t* War\n",
      "\t* Western\n",
      "\n",
      "- Some MovieIDs do not correspond to a movie due to accidental duplicate\n",
      "entries and/or test entries\n",
      "- Movies are mostly entered by hand, so errors and inconsistencies may exist\n"
     ]
    }
   ],
   "source": [
    "# !wget https://files.grouplens.org/datasets/movielens/ml-1m.zip\n",
    "!curl -O http://files.grouplens.org/datasets/movielens/ml-1m.zip\n",
    "!unzip -o ml-1m.zip\n",
    "!cat ml-1m/README"
   ]
  },
  {
   "cell_type": "code",
   "execution_count": 1,
   "id": "669137ca-f0f9-48d4-ae04-e42a4b0f8d14",
   "metadata": {},
   "outputs": [],
   "source": [
    "import pandas as pd\n",
    "import numpy as np\n",
    "from typing import Union"
   ]
  },
  {
   "cell_type": "code",
   "execution_count": 2,
   "id": "ed65b0ae-ce2d-437a-9739-e7981011089f",
   "metadata": {},
   "outputs": [
    {
     "data": {
      "text/html": [
       "<div>\n",
       "<style scoped>\n",
       "    .dataframe tbody tr th:only-of-type {\n",
       "        vertical-align: middle;\n",
       "    }\n",
       "\n",
       "    .dataframe tbody tr th {\n",
       "        vertical-align: top;\n",
       "    }\n",
       "\n",
       "    .dataframe thead th {\n",
       "        text-align: right;\n",
       "    }\n",
       "</style>\n",
       "<table border=\"1\" class=\"dataframe\">\n",
       "  <thead>\n",
       "    <tr style=\"text-align: right;\">\n",
       "      <th></th>\n",
       "      <th>user_id</th>\n",
       "      <th>item_id</th>\n",
       "      <th>rating</th>\n",
       "      <th>datetime</th>\n",
       "    </tr>\n",
       "  </thead>\n",
       "  <tbody>\n",
       "    <tr>\n",
       "      <th>0</th>\n",
       "      <td>1</td>\n",
       "      <td>1193</td>\n",
       "      <td>5</td>\n",
       "      <td>2000-12-31 22:12:40</td>\n",
       "    </tr>\n",
       "    <tr>\n",
       "      <th>1</th>\n",
       "      <td>1</td>\n",
       "      <td>661</td>\n",
       "      <td>3</td>\n",
       "      <td>2000-12-31 22:35:09</td>\n",
       "    </tr>\n",
       "    <tr>\n",
       "      <th>2</th>\n",
       "      <td>1</td>\n",
       "      <td>914</td>\n",
       "      <td>3</td>\n",
       "      <td>2000-12-31 22:32:48</td>\n",
       "    </tr>\n",
       "    <tr>\n",
       "      <th>3</th>\n",
       "      <td>1</td>\n",
       "      <td>3408</td>\n",
       "      <td>4</td>\n",
       "      <td>2000-12-31 22:04:35</td>\n",
       "    </tr>\n",
       "    <tr>\n",
       "      <th>4</th>\n",
       "      <td>1</td>\n",
       "      <td>2355</td>\n",
       "      <td>5</td>\n",
       "      <td>2001-01-06 23:38:11</td>\n",
       "    </tr>\n",
       "  </tbody>\n",
       "</table>\n",
       "</div>"
      ],
      "text/plain": [
       "   user_id  item_id  rating            datetime\n",
       "0        1     1193       5 2000-12-31 22:12:40\n",
       "1        1      661       3 2000-12-31 22:35:09\n",
       "2        1      914       3 2000-12-31 22:32:48\n",
       "3        1     3408       4 2000-12-31 22:04:35\n",
       "4        1     2355       5 2001-01-06 23:38:11"
      ]
     },
     "execution_count": 2,
     "metadata": {},
     "output_type": "execute_result"
    }
   ],
   "source": [
    "df = pd.read_csv(\"ml-1m/ratings.dat\", sep='::', names=['user_id', 'item_id', 'rating', 'timestamp'], engine='python')\n",
    "df['datetime'] = pd.to_datetime(df['timestamp'], unit='s')\n",
    "df.drop('timestamp', axis=1, inplace=True)\n",
    "df.head()"
   ]
  },
  {
   "cell_type": "code",
   "execution_count": 3,
   "id": "4988d476-542e-4a32-9c45-7a16bc2a5db5",
   "metadata": {},
   "outputs": [],
   "source": [
    "value_counts = df['item_id'].value_counts()\n",
    "filtered_values = value_counts[value_counts > 20].index\n",
    "df = df[df['item_id'].isin(filtered_values)].copy()"
   ]
  },
  {
   "cell_type": "code",
   "execution_count": 4,
   "id": "1e05bd3b-ab2f-4c02-9a97-a4153e9550bc",
   "metadata": {},
   "outputs": [
    {
     "data": {
      "text/plain": [
       "((787420, 4), (207432, 4))"
      ]
     },
     "execution_count": 4,
     "metadata": {},
     "output_type": "execute_result"
    }
   ],
   "source": [
    "train_end = '2000-12-01'\n",
    "df_train = df[df['datetime'] < train_end].copy()\n",
    "df_test = df[df['datetime'] >= train_end].copy()\n",
    "df_train.shape, df_test.shape"
   ]
  },
  {
   "cell_type": "code",
   "execution_count": 5,
   "id": "414b8ed7-20d6-4778-9d60-f9c8ccbfa7e3",
   "metadata": {},
   "outputs": [
    {
     "data": {
      "text/plain": [
       "(106471, 4)"
      ]
     },
     "execution_count": 5,
     "metadata": {},
     "output_type": "execute_result"
    }
   ],
   "source": [
    "train_users = df_train['user_id'].unique()\n",
    "train_items = df_train['item_id'].unique()\n",
    "\n",
    "df_test = df_test[df_test['user_id'].isin(train_users)]\n",
    "df_test = df_test[df_test['item_id'].isin(train_items)]\n",
    "df_test.shape"
   ]
  },
  {
   "cell_type": "code",
   "execution_count": 6,
   "id": "19f53d61-990c-4626-a470-7eefd06d2ec7",
   "metadata": {},
   "outputs": [],
   "source": [
    "from sklearn.preprocessing import LabelEncoder\n",
    "\n",
    "user_le = LabelEncoder()\n",
    "item_le = LabelEncoder()\n",
    "\n",
    "df_train['user_id'] = user_le.fit_transform(df_train['user_id'])\n",
    "df_train['item_id'] = item_le.fit_transform(df_train['item_id'])\n",
    "\n",
    "df_test['user_id'] = user_le.transform(df_test['user_id'])\n",
    "df_test['item_id'] = item_le.transform(df_test['item_id'])"
   ]
  },
  {
   "cell_type": "code",
   "execution_count": 7,
   "id": "f4ef3e2f-792d-4511-b4d0-74495d9cb30b",
   "metadata": {},
   "outputs": [
    {
     "data": {
      "text/plain": [
       "(3010, np.int64(3009))"
      ]
     },
     "execution_count": 7,
     "metadata": {},
     "output_type": "execute_result"
    }
   ],
   "source": [
    "df_train['user_id'].nunique(), df_train['user_id'].max()\n",
    "df_train['item_id'].nunique(), df_train['item_id'].max()"
   ]
  },
  {
   "cell_type": "markdown",
   "id": "3d356df8-9157-4752-b30d-dc80aba5e53c",
   "metadata": {},
   "source": [
    "##### Задание 1. Напишем функцию, которая превратит датафрейм в матрицу интеракций. В функции df_to_matrix реализуйте функцию, которая принимает датафрейм и возвращает np.array матрицу интеракций. В функции df_to_coo реализуйте функцию, которая принимает датафрейм и возвращает разреженную матрицу интеракций в coo_array формате"
   ]
  },
  {
   "cell_type": "code",
   "execution_count": 8,
   "id": "d38a7bb7-7f2d-4957-8dac-6397af9b1645",
   "metadata": {},
   "outputs": [],
   "source": [
    "def df_to_matrix(df: pd.DataFrame) -> np.ndarray:\n",
    "\n",
    "    users_length = df['user_id'].max() + 1 \n",
    "    items_lenght = df['item_id'].max() + 1 \n",
    "\n",
    "    matrix = np.zeros((users_length, items_lenght))\n",
    "\n",
    "    for _, row in df.iterrows():\n",
    "        matrix[row['user_id'], row['item_id']] = row['rating']\n",
    "\n",
    "    return matrix"
   ]
  },
  {
   "cell_type": "code",
   "execution_count": 9,
   "id": "ea6b2c23-39de-4888-a8e1-c8acd8e71d2f",
   "metadata": {},
   "outputs": [],
   "source": [
    "interactions = df_to_matrix(df_train)"
   ]
  },
  {
   "cell_type": "code",
   "execution_count": 10,
   "id": "794b646d-a560-42dd-a466-87cad2589271",
   "metadata": {},
   "outputs": [],
   "source": [
    "from scipy.sparse import coo_array\n",
    "\n",
    "def df_to_coo(df: pd.DataFrame) -> coo_array:\n",
    "\n",
    "    users_length = df['user_id'].max() + 1 \n",
    "    items_lenght = df['item_id'].max() + 1 \n",
    "\n",
    "    rows = np.array(df['user_id'])\n",
    "    cols = np.array(df['item_id'])\n",
    "    values = np.array(df['rating'], dtype=float) \n",
    "\n",
    "    coo_matix = coo_array((values, (rows, cols)), shape=(users_length, items_lenght))\n",
    "    \n",
    "    return coo_matix"
   ]
  },
  {
   "cell_type": "code",
   "execution_count": 11,
   "id": "30f9c218-0419-41b2-a112-c2214fad1d99",
   "metadata": {},
   "outputs": [],
   "source": [
    "coo_interactions = df_to_coo(df_train)"
   ]
  },
  {
   "cell_type": "code",
   "execution_count": 12,
   "id": "96b57a7a-0551-4f75-8047-fb9904ac93df",
   "metadata": {},
   "outputs": [],
   "source": [
    "assert (interactions != 0).sum() == df_train.shape[0]\n",
    "assert interactions[0, 2994] == 3\n",
    "assert interactions[2369, 1203] == 5\n",
    "assert interactions[1557, 459] == 3\n",
    "assert np.allclose(coo_interactions.toarray(), interactions)"
   ]
  },
  {
   "cell_type": "markdown",
   "id": "93b3862a-e62a-4ebe-a70c-29102e9f99fd",
   "metadata": {},
   "source": [
    "##### Задание 2.1. Рассмотрим [SVD](https://en.wikipedia.org/wiki/Singular_value_decomposition). Возьмите готовую реализуцию алгоритма из numpy.linalg или из scipy.linalg и примените алгоритм к матрицам интеракций, полученным в первом задании. Для работы со sparse матрицей обычная реализация svd не подойдет и нужно будет воспользоваться scipy.sparse.linalg.svds. Вам нужно разложить матрицу интеракций на 3 матрицы U, S, V, а затем перемножить их и восстановить изначальную матрицу. При полном разложении исходная матрица должна восстанавливаться максимально хорошо"
   ]
  },
  {
   "cell_type": "code",
   "execution_count": 13,
   "id": "eead134a-9aac-4027-b0b8-592de614c3d0",
   "metadata": {},
   "outputs": [],
   "source": [
    "import scipy.sparse.linalg\n",
    "import scipy.linalg\n",
    "\n",
    "def make_svd(interactions: Union[np.ndarray, coo_array], n_singular_values: int = -1):\n",
    "    # функция должна работать и для полной матрицы и для sparse матрицы(вам поможет isinstance).\n",
    "    # если n_singular_values = -1, то берем все сингулярные числа для полной матрицы\n",
    "    # и все кроме одного сингулярного числа для coo-матрицы(иначе scipy.sparse.linalg.svds не будет работать)\n",
    "    \n",
    "    if isinstance(interactions, np.ndarray):\n",
    "        U, s, V = scipy.linalg.svd(interactions, full_matrices = False)\n",
    "\n",
    "        if n_singular_values != -1:\n",
    "            U = U[:, :n_singular_values]    \n",
    "            s = s[:n_singular_values]        \n",
    "            V = V[:n_singular_values, :] \n",
    "        \n",
    "    elif isinstance(interactions, coo_array):\n",
    "        singular_numbers = min(interactions.shape) - 1 if n_singular_values == -1 else n_singular_values\n",
    "        \n",
    "        U, s, V = scipy.sparse.linalg.svds(interactions, k=singular_numbers)\n",
    "        U, s, V = U[:, ::-1], s[::-1], V[::-1, :]\n",
    "\n",
    "    S = np.diag(s)\n",
    "            \n",
    "    return U, S, V "
   ]
  },
  {
   "cell_type": "code",
   "execution_count": 14,
   "id": "5c5fecd4-4739-4f6b-9c9c-44bde8b66a34",
   "metadata": {},
   "outputs": [],
   "source": [
    "U, S, V = make_svd(interactions)\n",
    "assert np.allclose(U @ S @ V, interactions)"
   ]
  },
  {
   "cell_type": "code",
   "execution_count": 15,
   "id": "c5a5f59e-3832-4a7d-95b4-856531582bbd",
   "metadata": {},
   "outputs": [],
   "source": [
    "U1, S1, V1 = make_svd(interactions, 10)\n",
    "U, S, V = make_svd(coo_interactions, 10)\n",
    "assert np.allclose(U1 @ S1 @ V1, U @ S @ V)"
   ]
  },
  {
   "cell_type": "markdown",
   "id": "9443daa6-e9f1-414a-8107-5a3016452929",
   "metadata": {},
   "source": [
    "##### Задание 2.2. Теперь попробуем сделать рекомендации с помощью SVD. Мы научились восстанавливать исходную матрицу с помощью разложения, теперь же мы хотим порекомендовать пользователю айтемы, которые будут для него максимально релевантны(в восстановленной матрице у них будет самый высокий скор). Для каждого пользователя нужно будет найти индексы айтемов, которые имеют максимальный скор. При этом стоит обратить внимание, что мы не хотим рекомендовать пользователю айтемы, с которыми он уже взаимодействовал"
   ]
  },
  {
   "cell_type": "code",
   "execution_count": 16,
   "id": "787da18f-48d0-4dfa-b18f-b7e97cc98a4f",
   "metadata": {},
   "outputs": [],
   "source": [
    "def make_svd_recommendations(interactions: Union[np.ndarray, coo_array], n_singular_values: int = -1, top_k: int = 100):\n",
    "    # Возвращает матрицу вида n_users, top_k, то есть для каждого пользователя возвращаем индексы \n",
    "    # top_k самых релевантный айтемов среди тех с которыми он еще не взаимодействовал\n",
    "    \n",
    "    U, S, V = make_svd(interactions, n_singular_values)\n",
    "    matrix_restored = U @ S @ V\n",
    "\n",
    "    if isinstance(interactions, coo_array):\n",
    "         interactions = interactions.tocsr().toarray()  \n",
    "\n",
    "    mask = interactions > 0\n",
    "        \n",
    "    matrix_restored[mask] = - np.inf\n",
    "    \n",
    "    recommendations = np.argsort(matrix_restored, axis=1)[:, - top_k:]\n",
    "    \n",
    "    return recommendations #shape ~ [n_users, top_k]"
   ]
  },
  {
   "cell_type": "code",
   "execution_count": 17,
   "id": "ec72f3dd-c8f2-4434-b84e-ef016c4773a1",
   "metadata": {},
   "outputs": [],
   "source": [
    "recs = make_svd_recommendations(interactions, -1, 100)\n",
    "assert recs.shape == (interactions.shape[0], 100)"
   ]
  },
  {
   "cell_type": "markdown",
   "id": "f5d0b788-855a-4fd9-8cbb-38c0dd289ef5",
   "metadata": {},
   "source": [
    "##### Задание 2.3. Теперь давайте посмотрим как будет зависеть качетво рекомендаций, от количества сингулярных чисел, которые мы возьмем в SVD разложении. Переберите n_singular_values из списка [1, 10, 50, 200, 1000] и посмотрите как будет изменяться метрика NDCG на тестовом датасете для таких рекомендаций и как будет меняться время вычисления. Для каждого графики зависимости метрики NDCG от n_singular_values и времени работы алгоритма от n_singular_values(Время работы будет меняться только для sparse-матрицы, стоит запускать алгоритм именно для нее)"
   ]
  },
  {
   "cell_type": "code",
   "execution_count": 18,
   "id": "b4eab5c7-5b68-4219-a082-dd6d44f61359",
   "metadata": {},
   "outputs": [],
   "source": [
    "# Создает датафрейм, в котором собраны ground truth айтемы и предсказания по тестовым пользователям\n",
    "def get_eval_df(df_test, predictions):\n",
    "    test_users = np.sort(df_test.user_id.unique())\n",
    "    predictions_test = predictions[test_users]\n",
    "\n",
    "    gt_items = df_test.groupby('user_id').item_id.agg(list).reindex(test_users)\n",
    "\n",
    "    df_eval = pd.DataFrame({\n",
    "        'user_id': test_users,\n",
    "        'gt_items': gt_items.values,  \n",
    "        'predicted_items': [list(row) for row in predictions_test]\n",
    "    })\n",
    "\n",
    "    return df_eval"
   ]
  },
  {
   "cell_type": "code",
   "execution_count": 19,
   "id": "fd639920-425e-440d-b805-d342a21b55f9",
   "metadata": {},
   "outputs": [],
   "source": [
    "def dcg(scores):\n",
    "    if len(scores) == 0:\n",
    "        return 0.0\n",
    "        \n",
    "    num = np.power(2, scores) - 1\n",
    "    den = np.log2(np.arange(scores.shape[0], dtype=np.float64) + 2)\n",
    "    metric = np.sum(num / den)\n",
    "    \n",
    "    return metric"
   ]
  },
  {
   "cell_type": "markdown",
   "id": "dcfc45d8-a333-49d0-a3a3-49915fe71890",
   "metadata": {},
   "source": [
    "В семинаре была дана следующая реализация:\n",
    "- `at = len(predicted)`\n",
    "- `relevance = np.array([1 if item in predicted else 0 for item in gt_items])`\n",
    "- `idcg = dcg(np.sort(relevance)[::-1][:at])`.\n",
    "\n",
    "То есть мы проверяем действия из тестового датасета на вхождение в рекомендации. При этом обсудили, что корректнее проверять рекомендации на вхождения в тест. \n",
    "\n",
    "Различия в реализациях будут влиять на метрику. Для этого шага вычислю ее обоими способами, но дальше в заданиях как предпочтительную использую вариант с присвоением вхождения рекомендациям в тест, а не наоборот (то есть решение не из семинара)."
   ]
  },
  {
   "cell_type": "code",
   "execution_count": 23,
   "id": "1922c2dc-28f7-4466-8ea5-06af55fcef2c",
   "metadata": {},
   "outputs": [],
   "source": [
    "def ndcg_seminar(gt_items, predicted):\n",
    "    if len(gt_items) == 0: \n",
    "        return 0.0\n",
    "        \n",
    "    at = len(predicted)\n",
    "    \n",
    "    relevance = np.array([1 if item in predicted else 0 for item in gt_items])\n",
    "    \n",
    "    rank_dcg = dcg(relevance)\n",
    "    idcg = dcg(np.sort(relevance)[::-1][:at])\n",
    "    \n",
    "    metric = 0.0 if (idcg == 0) or (rank_dcg == 0) else rank_dcg / idcg\n",
    "\n",
    "    return metric\n",
    "\n",
    "\n",
    "def ndcg(gt_items, predicted):\n",
    "    if len(gt_items) == 0: \n",
    "        return 0.0\n",
    "\n",
    "    relevance = np.array([1 if item in gt_items else 0 for item in predicted])\n",
    "    \n",
    "    rank_dcg = dcg(relevance)\n",
    "    idcg = dcg(np.sort(relevance)[::-1])\n",
    "    \n",
    "    metric = 0.0 if (idcg == 0) or (rank_dcg == 0) else rank_dcg / idcg\n",
    "\n",
    "    return metric\n",
    "\n",
    "\n",
    "def evaluate_recommender(df_test, predictions, ndcg_sem=False):\n",
    "    ndcg_list = []\n",
    "    \n",
    "    df_eval = get_eval_df(df_test, predictions)\n",
    "\n",
    "    \n",
    "    for idx, row in df_eval.iterrows():\n",
    "        if ndcg_sem:\n",
    "            ndcg_list.append(ndcg_seminar(row.gt_items, row.predicted_items))\n",
    "        else:\n",
    "            ndcg_list.append(ndcg(row.gt_items, row.predicted_items))\n",
    "            \n",
    "    return np.mean(ndcg_list)"
   ]
  },
  {
   "cell_type": "code",
   "execution_count": 24,
   "id": "06f931fd-0eb0-4965-9e02-e005ed545c71",
   "metadata": {},
   "outputs": [],
   "source": [
    "import time\n",
    "import matplotlib.pyplot as plt\n",
    "\n",
    "def plot_graphs(interactions: Union[np.ndarray, coo_array], df_test, top_k: int = 100, ndcg_sem=False):\n",
    "    ndcg_metrics = {}\n",
    "    times = {}\n",
    "    singular_values = [1, 10, 50, 100, 200, 1000]\n",
    "    counter = len(singular_values)\n",
    "\n",
    "    for n_singular_values in singular_values:\n",
    "        start_time = time.time()\n",
    "            \n",
    "        predictions = make_svd_recommendations(interactions, n_singular_values, top_k) \n",
    "        \n",
    "        ndcg_metrics[n_singular_values] = evaluate_recommender(df_test, predictions, ndcg_sem)\n",
    "        times[n_singular_values] = time.time() - start_time\n",
    "\n",
    "        counter -= 1\n",
    "        print(f'singular {n_singular_values} — done, to do: {counter} values')\n",
    "\n",
    "    # Viz\n",
    "    plt.figure(figsize=(10, 5))\n",
    "\n",
    "    # NDCG\n",
    "    plt.subplot(1, 2, 1)\n",
    "    plt.plot(ndcg_metrics.keys(), ndcg_metrics.values(), marker='o', linestyle='-')\n",
    "    plt.xlabel('Singular Value')\n",
    "    plt.ylabel('Metric Value')\n",
    "    plt.title(f'NDCG@{top_k} Dependency on Singular Values')\n",
    "    plt.grid()\n",
    "\n",
    "    # Time\n",
    "    plt.subplot(1, 2, 2)\n",
    "    plt.plot(times.keys(), times.values(), marker='o', linestyle='-')\n",
    "    plt.xlabel('Singular Value')\n",
    "    plt.ylabel('Time, seconds')\n",
    "    plt.title('SVD Working Time Dependency on Singular Values')\n",
    "    plt.grid()\n",
    "\n",
    "    plt.show()\n",
    "    \n",
    "    return plt.show()"
   ]
  },
  {
   "cell_type": "markdown",
   "id": "e4b65582-11d3-40fb-b35a-ef6a0b41aa98",
   "metadata": {},
   "source": [
    "Качество метрики из семинара"
   ]
  },
  {
   "cell_type": "code",
   "execution_count": 26,
   "id": "ee22fe02-b1c2-4fb5-a7b1-0525356fe9f0",
   "metadata": {},
   "outputs": [
    {
     "name": "stdout",
     "output_type": "stream",
     "text": [
      "singular 1 — done, to do: 5 values\n",
      "singular 10 — done, to do: 4 values\n",
      "singular 50 — done, to do: 3 values\n",
      "singular 100 — done, to do: 2 values\n",
      "singular 200 — done, to do: 1 values\n",
      "singular 1000 — done, to do: 0 values\n"
     ]
    },
    {
     "data": {
      "image/png": "[encoded data removed]",
      "text/plain": [
       "<Figure size 1000x500 with 2 Axes>"
      ]
     },
     "metadata": {},
     "output_type": "display_data"
    }
   ],
   "source": [
    "plot_graphs(coo_interactions, df_test, ndcg_sem=True)"
   ]
  },
  {
   "cell_type": "markdown",
   "id": "619f9688-94e4-41d8-adce-a552c295dcb6",
   "metadata": {},
   "source": [
    "Качество метрики, рассчитанной по вхождению рекомендаций в тест (используем везде в дальнейшем)"
   ]
  },
  {
   "cell_type": "code",
   "execution_count": 27,
   "id": "e8bd8da0-2795-41da-b4f3-33df1c336da0",
   "metadata": {},
   "outputs": [
    {
     "name": "stdout",
     "output_type": "stream",
     "text": [
      "singular 1 — done, to do: 5 values\n",
      "singular 10 — done, to do: 4 values\n",
      "singular 50 — done, to do: 3 values\n",
      "singular 100 — done, to do: 2 values\n",
      "singular 200 — done, to do: 1 values\n",
      "singular 1000 — done, to do: 0 values\n"
     ]
    },
    {
     "data": {
      "image/png": "[encoded data removed]",
      "text/plain": [
       "<Figure size 1000x500 with 2 Axes>"
      ]
     },
     "metadata": {},
     "output_type": "display_data"
    }
   ],
   "source": [
    "plot_graphs(coo_interactions, df_test)"
   ]
  },
  {
   "cell_type": "markdown",
   "id": "a8612d96-c694-42d6-9525-58808f642577",
   "metadata": {},
   "source": [
    "##### Задание 3.1. Перейдем к [ALS](http://yifanhu.net/PUB/cf.pdf). Возьмем реализацию iALS из библиотеки [implicit](https://benfred.github.io/implicit/api/models/cpu/als.html). Обучите ALS на нашем датасете, сделайте top_k рекомендации для юзеров из тестового датасета, и сравните метрики ALS с метриками, которые получились в SVD. Попробуйте перебрать гиперпараметры и найдите оптимальное число факторов, коэффициент alpha и коэффициент регуляризации."
   ]
  },
  {
   "cell_type": "code",
   "execution_count": 28,
   "id": "b5fb16e9-49d1-4d7e-a384-ccbdad4f1cdf",
   "metadata": {},
   "outputs": [],
   "source": [
    "import implicit\n",
    "from scipy.sparse import csr_matrix\n",
    "\n",
    "def make_als_recommendations(\n",
    "    interactions: Union[np.ndarray, coo_array], \n",
    "    top_k: int = 100, \n",
    "    n_factors: int = 100,\n",
    "    alpha: float = 1.0,\n",
    "    regularization: float = 0.01,\n",
    "):\n",
    "    if isinstance(interactions, np.ndarray):\n",
    "        interactions = coo_array(interactions)\n",
    "\n",
    "    model = implicit.als.AlternatingLeastSquares(\n",
    "        factors=n_factors,\n",
    "        regularization=regularization,\n",
    "        alpha=alpha,\n",
    "        random_state=42\n",
    "    )\n",
    "    \n",
    "    interactions_csr = csr_matrix(interactions)\n",
    "    \n",
    "    model.fit(interactions_csr)\n",
    "\n",
    "    users = np.arange(interactions.shape[0])\n",
    "    items, scores = model.recommend(users, interactions_csr, N=top_k, filter_already_liked_items=True)\n",
    "    \n",
    "    return items, model # возвращаем model, чтобы потом использовать ее в explain"
   ]
  },
  {
   "cell_type": "code",
   "execution_count": 29,
   "id": "b5573d01-8512-450f-9260-03928ee9b367",
   "metadata": {},
   "outputs": [
    {
     "data": {
      "application/vnd.jupyter.widget-view+json": {
       "model_id": "34d60730d4be499fa97ccfa550c46b12",
       "version_major": 2,
       "version_minor": 0
      },
      "text/plain": [
       "  0%|          | 0/15 [00:00<?, ?it/s]"
      ]
     },
     "metadata": {},
     "output_type": "display_data"
    }
   ],
   "source": [
    "recs, als = make_als_recommendations(interactions)\n",
    "assert recs.shape == (interactions.shape[0], 100)"
   ]
  },
  {
   "cell_type": "code",
   "execution_count": 30,
   "id": "c5aea1b0-8a68-47ac-b7e3-ab5b2352a70d",
   "metadata": {},
   "outputs": [
    {
     "data": {
      "text/plain": [
       "np.float64(0.4999137188407219)"
      ]
     },
     "execution_count": 30,
     "metadata": {},
     "output_type": "execute_result"
    }
   ],
   "source": [
    "# дефолтная проверка качества\n",
    "evaluate_recommender(df_test, recs)"
   ]
  },
  {
   "cell_type": "markdown",
   "id": "e8cea5be-1f34-47ea-925a-f1bdeb9bbbbf",
   "metadata": {},
   "source": [
    "Дефолтная проверка (без подбора гиперпараметров), дает качество немного выше, чем самое высокое из детектируемых (n_singular_values=10) на SVD"
   ]
  },
  {
   "cell_type": "code",
   "execution_count": 34,
   "id": "68da68a4-4899-4950-b3af-936b8f272c9d",
   "metadata": {},
   "outputs": [],
   "source": [
    "import optuna\n",
    "\n",
    "def objective(trial):\n",
    "    n_factors = trial.suggest_int('n_factors', 10, 1000, log=True)\n",
    "    alpha = trial.suggest_float('alpha', 1.0, 20.0, log=True)\n",
    "    regularization = trial.suggest_float('regularization', 0.001, 2.0, log=True)\n",
    "\n",
    "    recs, als = make_als_recommendations(interactions, \n",
    "                                         n_factors=n_factors,\n",
    "                                         alpha=alpha,\n",
    "                                         regularization=regularization\n",
    "                                        )  \n",
    "\n",
    "    ndcg_values = evaluate_recommender(df_test, recs)\n",
    "\n",
    "    return ndcg_values"
   ]
  },
  {
   "cell_type": "code",
   "execution_count": 35,
   "id": "634aaa7f-1073-43b8-bc12-45674a501908",
   "metadata": {},
   "outputs": [
    {
     "name": "stderr",
     "output_type": "stream",
     "text": [
      "[I 2025-03-02 19:05:10,285] A new study created in memory with name: no-name-0b5582cd-3335-408b-baa7-b1dedca4b196\n"
     ]
    },
    {
     "data": {
      "application/vnd.jupyter.widget-view+json": {
       "model_id": "5457e8881617473c9cb662e7f7ae88f8",
       "version_major": 2,
       "version_minor": 0
      },
      "text/plain": [
       "  0%|          | 0/15 [00:00<?, ?it/s]"
      ]
     },
     "metadata": {},
     "output_type": "display_data"
    },
    {
     "name": "stderr",
     "output_type": "stream",
     "text": [
      "[I 2025-03-02 19:05:12,364] Trial 0 finished with value: 0.5154306816200745 and parameters: {'n_factors': 28, 'alpha': 1.470988466896334, 'regularization': 0.0016604013636341776}. Best is trial 0 with value: 0.5154306816200745.\n"
     ]
    },
    {
     "data": {
      "application/vnd.jupyter.widget-view+json": {
       "model_id": "7d96a0cbad9a4bdc873d2debe281fb24",
       "version_major": 2,
       "version_minor": 0
      },
      "text/plain": [
       "  0%|          | 0/15 [00:00<?, ?it/s]"
      ]
     },
     "metadata": {},
     "output_type": "display_data"
    },
    {
     "name": "stderr",
     "output_type": "stream",
     "text": [
      "[I 2025-03-02 19:05:16,100] Trial 1 finished with value: 0.46812396382231597 and parameters: {'n_factors': 89, 'alpha': 7.085170846831894, 'regularization': 0.026894757851671454}. Best is trial 0 with value: 0.5154306816200745.\n"
     ]
    },
    {
     "data": {
      "application/vnd.jupyter.widget-view+json": {
       "model_id": "cf1f98aa20b744e2a44982a8ba3589c5",
       "version_major": 2,
       "version_minor": 0
      },
      "text/plain": [
       "  0%|          | 0/15 [00:00<?, ?it/s]"
      ]
     },
     "metadata": {},
     "output_type": "display_data"
    },
    {
     "name": "stderr",
     "output_type": "stream",
     "text": [
      "[I 2025-03-02 19:05:27,779] Trial 2 finished with value: 0.4586976179838788 and parameters: {'n_factors': 241, 'alpha': 1.0966281837287268, 'regularization': 0.001638463526074343}. Best is trial 0 with value: 0.5154306816200745.\n"
     ]
    },
    {
     "data": {
      "application/vnd.jupyter.widget-view+json": {
       "model_id": "f1de32a973b4489dadb6c03eb33da31c",
       "version_major": 2,
       "version_minor": 0
      },
      "text/plain": [
       "  0%|          | 0/15 [00:00<?, ?it/s]"
      ]
     },
     "metadata": {},
     "output_type": "display_data"
    },
    {
     "name": "stderr",
     "output_type": "stream",
     "text": [
      "[I 2025-03-02 19:05:30,222] Trial 3 finished with value: 0.5162943217925803 and parameters: {'n_factors': 42, 'alpha': 1.0662417942841458, 'regularization': 0.046449784846489796}. Best is trial 3 with value: 0.5162943217925803.\n"
     ]
    },
    {
     "data": {
      "application/vnd.jupyter.widget-view+json": {
       "model_id": "699259f6e64b46e99c67301d58615174",
       "version_major": 2,
       "version_minor": 0
      },
      "text/plain": [
       "  0%|          | 0/15 [00:00<?, ?it/s]"
      ]
     },
     "metadata": {},
     "output_type": "display_data"
    },
    {
     "name": "stderr",
     "output_type": "stream",
     "text": [
      "[I 2025-03-02 19:05:32,036] Trial 4 finished with value: 0.5311538581681303 and parameters: {'n_factors': 11, 'alpha': 2.060308195935339, 'regularization': 0.10455022785661255}. Best is trial 4 with value: 0.5311538581681303.\n"
     ]
    },
    {
     "data": {
      "application/vnd.jupyter.widget-view+json": {
       "model_id": "8a902c67a93e46e7bd573c339fb95f7d",
       "version_major": 2,
       "version_minor": 0
      },
      "text/plain": [
       "  0%|          | 0/15 [00:00<?, ?it/s]"
      ]
     },
     "metadata": {},
     "output_type": "display_data"
    },
    {
     "name": "stderr",
     "output_type": "stream",
     "text": [
      "[I 2025-03-02 19:06:05,560] Trial 5 finished with value: 0.42739589098231695 and parameters: {'n_factors': 575, 'alpha': 15.171532208630968, 'regularization': 0.0028604707975895256}. Best is trial 4 with value: 0.5311538581681303.\n"
     ]
    },
    {
     "data": {
      "application/vnd.jupyter.widget-view+json": {
       "model_id": "0b7bba67bcaf4a239953d5133995b2af",
       "version_major": 2,
       "version_minor": 0
      },
      "text/plain": [
       "  0%|          | 0/15 [00:00<?, ?it/s]"
      ]
     },
     "metadata": {},
     "output_type": "display_data"
    },
    {
     "name": "stderr",
     "output_type": "stream",
     "text": [
      "[I 2025-03-02 19:06:41,287] Trial 6 finished with value: 0.3880461795534247 and parameters: {'n_factors': 656, 'alpha': 1.6492712629482644, 'regularization': 0.24785940878459922}. Best is trial 4 with value: 0.5311538581681303.\n"
     ]
    },
    {
     "data": {
      "application/vnd.jupyter.widget-view+json": {
       "model_id": "1e8ecd85d12444d881f006d17eff236c",
       "version_major": 2,
       "version_minor": 0
      },
      "text/plain": [
       "  0%|          | 0/15 [00:00<?, ?it/s]"
      ]
     },
     "metadata": {},
     "output_type": "display_data"
    },
    {
     "name": "stderr",
     "output_type": "stream",
     "text": [
      "[I 2025-03-02 19:07:21,538] Trial 7 finished with value: 0.41173195946649793 and parameters: {'n_factors': 684, 'alpha': 5.99339548450812, 'regularization': 0.0040941532975010304}. Best is trial 4 with value: 0.5311538581681303.\n"
     ]
    },
    {
     "data": {
      "application/vnd.jupyter.widget-view+json": {
       "model_id": "942c51d2eb0b4fe98fcab0389bf6ac7c",
       "version_major": 2,
       "version_minor": 0
      },
      "text/plain": [
       "  0%|          | 0/15 [00:00<?, ?it/s]"
      ]
     },
     "metadata": {},
     "output_type": "display_data"
    },
    {
     "name": "stderr",
     "output_type": "stream",
     "text": [
      "[I 2025-03-02 19:07:25,011] Trial 8 finished with value: 0.49903709616750086 and parameters: {'n_factors': 66, 'alpha': 2.6238477754451304, 'regularization': 0.00308248818520883}. Best is trial 4 with value: 0.5311538581681303.\n"
     ]
    },
    {
     "data": {
      "application/vnd.jupyter.widget-view+json": {
       "model_id": "62f6c6ad9b5e4474abb9f6877d9f6ea0",
       "version_major": 2,
       "version_minor": 0
      },
      "text/plain": [
       "  0%|          | 0/15 [00:00<?, ?it/s]"
      ]
     },
     "metadata": {},
     "output_type": "display_data"
    },
    {
     "name": "stderr",
     "output_type": "stream",
     "text": [
      "[I 2025-03-02 19:07:27,182] Trial 9 finished with value: 0.46844049985982605 and parameters: {'n_factors': 30, 'alpha': 11.93016689991651, 'regularization': 0.1403978358710869}. Best is trial 4 with value: 0.5311538581681303.\n"
     ]
    },
    {
     "data": {
      "application/vnd.jupyter.widget-view+json": {
       "model_id": "bc989b772c81445fa87a4dc6e4184928",
       "version_major": 2,
       "version_minor": 0
      },
      "text/plain": [
       "  0%|          | 0/15 [00:00<?, ?it/s]"
      ]
     },
     "metadata": {},
     "output_type": "display_data"
    },
    {
     "name": "stderr",
     "output_type": "stream",
     "text": [
      "[I 2025-03-02 19:07:28,983] Trial 10 finished with value: 0.5219963065011336 and parameters: {'n_factors': 12, 'alpha': 3.1434982762382675, 'regularization': 1.282630236061941}. Best is trial 4 with value: 0.5311538581681303.\n"
     ]
    },
    {
     "data": {
      "application/vnd.jupyter.widget-view+json": {
       "model_id": "d8b93d090fd444a3a5cc609b2b8666cf",
       "version_major": 2,
       "version_minor": 0
      },
      "text/plain": [
       "  0%|          | 0/15 [00:00<?, ?it/s]"
      ]
     },
     "metadata": {},
     "output_type": "display_data"
    },
    {
     "name": "stderr",
     "output_type": "stream",
     "text": [
      "[I 2025-03-02 19:07:30,778] Trial 11 finished with value: 0.5279691718315332 and parameters: {'n_factors': 10, 'alpha': 3.0917630466458634, 'regularization': 1.9828852637249441}. Best is trial 4 with value: 0.5311538581681303.\n"
     ]
    },
    {
     "data": {
      "application/vnd.jupyter.widget-view+json": {
       "model_id": "7ceb421cfad94c07853750dacbff89a4",
       "version_major": 2,
       "version_minor": 0
      },
      "text/plain": [
       "  0%|          | 0/15 [00:00<?, ?it/s]"
      ]
     },
     "metadata": {},
     "output_type": "display_data"
    },
    {
     "name": "stderr",
     "output_type": "stream",
     "text": [
      "[I 2025-03-02 19:07:32,559] Trial 12 finished with value: 0.5280315509617357 and parameters: {'n_factors': 10, 'alpha': 3.0184688339113133, 'regularization': 1.5704943426199849}. Best is trial 4 with value: 0.5311538581681303.\n"
     ]
    },
    {
     "data": {
      "application/vnd.jupyter.widget-view+json": {
       "model_id": "149e5ffc757a46c0a8e454a64d16b3f7",
       "version_major": 2,
       "version_minor": 0
      },
      "text/plain": [
       "  0%|          | 0/15 [00:00<?, ?it/s]"
      ]
     },
     "metadata": {},
     "output_type": "display_data"
    },
    {
     "name": "stderr",
     "output_type": "stream",
     "text": [
      "[I 2025-03-02 19:07:34,518] Trial 13 finished with value: 0.5204536068812873 and parameters: {'n_factors': 17, 'alpha': 2.256859880932861, 'regularization': 0.5305260930577727}. Best is trial 4 with value: 0.5311538581681303.\n"
     ]
    },
    {
     "data": {
      "application/vnd.jupyter.widget-view+json": {
       "model_id": "4b747fef1c4841e68f1fdce9e9b0b1d6",
       "version_major": 2,
       "version_minor": 0
      },
      "text/plain": [
       "  0%|          | 0/15 [00:00<?, ?it/s]"
      ]
     },
     "metadata": {},
     "output_type": "display_data"
    },
    {
     "name": "stderr",
     "output_type": "stream",
     "text": [
      "[I 2025-03-02 19:07:36,501] Trial 14 finished with value: 0.5054966830924247 and parameters: {'n_factors': 19, 'alpha': 4.618676935545588, 'regularization': 0.017243801346244942}. Best is trial 4 with value: 0.5311538581681303.\n"
     ]
    },
    {
     "data": {
      "application/vnd.jupyter.widget-view+json": {
       "model_id": "5a8a108b7a224ac6b7954dafe01a1921",
       "version_major": 2,
       "version_minor": 0
      },
      "text/plain": [
       "  0%|          | 0/15 [00:00<?, ?it/s]"
      ]
     },
     "metadata": {},
     "output_type": "display_data"
    },
    {
     "name": "stderr",
     "output_type": "stream",
     "text": [
      "[I 2025-03-02 19:07:46,918] Trial 15 finished with value: 0.46521125386191914 and parameters: {'n_factors': 213, 'alpha': 1.8669312422956201, 'regularization': 0.09630843508070941}. Best is trial 4 with value: 0.5311538581681303.\n"
     ]
    },
    {
     "data": {
      "application/vnd.jupyter.widget-view+json": {
       "model_id": "4a168199720a4453b206952e996446e7",
       "version_major": 2,
       "version_minor": 0
      },
      "text/plain": [
       "  0%|          | 0/15 [00:00<?, ?it/s]"
      ]
     },
     "metadata": {},
     "output_type": "display_data"
    },
    {
     "name": "stderr",
     "output_type": "stream",
     "text": [
      "[I 2025-03-02 19:07:48,704] Trial 16 finished with value: 0.523089594927718 and parameters: {'n_factors': 10, 'alpha': 4.266343463932768, 'regularization': 0.7701567151393692}. Best is trial 4 with value: 0.5311538581681303.\n"
     ]
    },
    {
     "data": {
      "application/vnd.jupyter.widget-view+json": {
       "model_id": "3e910881e97348388fbe7c902acc4135",
       "version_major": 2,
       "version_minor": 0
      },
      "text/plain": [
       "  0%|          | 0/15 [00:00<?, ?it/s]"
      ]
     },
     "metadata": {},
     "output_type": "display_data"
    },
    {
     "name": "stderr",
     "output_type": "stream",
     "text": [
      "[I 2025-03-02 19:07:57,280] Trial 17 finished with value: 0.4607413541611112 and parameters: {'n_factors': 173, 'alpha': 8.6537294023773, 'regularization': 0.3743317806311214}. Best is trial 4 with value: 0.5311538581681303.\n"
     ]
    },
    {
     "data": {
      "application/vnd.jupyter.widget-view+json": {
       "model_id": "721a3cdba47f4347ac881c49deccba27",
       "version_major": 2,
       "version_minor": 0
      },
      "text/plain": [
       "  0%|          | 0/15 [00:00<?, ?it/s]"
      ]
     },
     "metadata": {},
     "output_type": "display_data"
    },
    {
     "name": "stderr",
     "output_type": "stream",
     "text": [
      "[I 2025-03-02 19:07:59,969] Trial 18 finished with value: 0.48873971174562214 and parameters: {'n_factors': 52, 'alpha': 4.149564915233913, 'regularization': 0.007388545987667136}. Best is trial 4 with value: 0.5311538581681303.\n"
     ]
    },
    {
     "data": {
      "application/vnd.jupyter.widget-view+json": {
       "model_id": "e3258e0c66fa422faf34d6238798444d",
       "version_major": 2,
       "version_minor": 0
      },
      "text/plain": [
       "  0%|          | 0/15 [00:00<?, ?it/s]"
      ]
     },
     "metadata": {},
     "output_type": "display_data"
    },
    {
     "name": "stderr",
     "output_type": "stream",
     "text": [
      "[I 2025-03-02 19:08:01,882] Trial 19 finished with value: 0.5211782418067454 and parameters: {'n_factors': 17, 'alpha': 2.209719295417543, 'regularization': 0.08901715841065937}. Best is trial 4 with value: 0.5311538581681303.\n"
     ]
    },
    {
     "data": {
      "application/vnd.jupyter.widget-view+json": {
       "model_id": "9e7340d92deb4e3da8f45dedcdf0f449",
       "version_major": 2,
       "version_minor": 0
      },
      "text/plain": [
       "  0%|          | 0/15 [00:00<?, ?it/s]"
      ]
     },
     "metadata": {},
     "output_type": "display_data"
    },
    {
     "name": "stderr",
     "output_type": "stream",
     "text": [
      "[I 2025-03-02 19:08:04,100] Trial 20 finished with value: 0.5170583587878839 and parameters: {'n_factors': 34, 'alpha': 1.3129321289443132, 'regularization': 0.24665062464384555}. Best is trial 4 with value: 0.5311538581681303.\n"
     ]
    },
    {
     "data": {
      "application/vnd.jupyter.widget-view+json": {
       "model_id": "e5fea79b30e44fc99d74e50e42433ac5",
       "version_major": 2,
       "version_minor": 0
      },
      "text/plain": [
       "  0%|          | 0/15 [00:00<?, ?it/s]"
      ]
     },
     "metadata": {},
     "output_type": "display_data"
    },
    {
     "name": "stderr",
     "output_type": "stream",
     "text": [
      "[I 2025-03-02 19:08:05,888] Trial 21 finished with value: 0.5241327103268044 and parameters: {'n_factors': 11, 'alpha': 3.2410187725698933, 'regularization': 1.6960418517307037}. Best is trial 4 with value: 0.5311538581681303.\n"
     ]
    },
    {
     "data": {
      "application/vnd.jupyter.widget-view+json": {
       "model_id": "6b5dfb5471fa4c1b8024a73d591b8745",
       "version_major": 2,
       "version_minor": 0
      },
      "text/plain": [
       "  0%|          | 0/15 [00:00<?, ?it/s]"
      ]
     },
     "metadata": {},
     "output_type": "display_data"
    },
    {
     "name": "stderr",
     "output_type": "stream",
     "text": [
      "[I 2025-03-02 19:08:07,838] Trial 22 finished with value: 0.5077954567228359 and parameters: {'n_factors': 20, 'alpha': 3.1150954849700634, 'regularization': 1.9635432972447013}. Best is trial 4 with value: 0.5311538581681303.\n"
     ]
    },
    {
     "data": {
      "application/vnd.jupyter.widget-view+json": {
       "model_id": "94ddc35addd84cc286b8b57485e0fa50",
       "version_major": 2,
       "version_minor": 0
      },
      "text/plain": [
       "  0%|          | 0/15 [00:00<?, ?it/s]"
      ]
     },
     "metadata": {},
     "output_type": "display_data"
    },
    {
     "name": "stderr",
     "output_type": "stream",
     "text": [
      "[I 2025-03-02 19:08:09,616] Trial 23 finished with value: 0.5319482986634834 and parameters: {'n_factors': 10, 'alpha': 2.0390732592749132, 'regularization': 0.8524606388647672}. Best is trial 23 with value: 0.5319482986634834.\n"
     ]
    },
    {
     "data": {
      "application/vnd.jupyter.widget-view+json": {
       "model_id": "37665aeecfee49068bce782c6da36303",
       "version_major": 2,
       "version_minor": 0
      },
      "text/plain": [
       "  0%|          | 0/15 [00:00<?, ?it/s]"
      ]
     },
     "metadata": {},
     "output_type": "display_data"
    },
    {
     "name": "stderr",
     "output_type": "stream",
     "text": [
      "[I 2025-03-02 19:08:11,672] Trial 24 finished with value: 0.5158025495415963 and parameters: {'n_factors': 23, 'alpha': 1.9830857058631128, 'regularization': 0.9619245139877017}. Best is trial 23 with value: 0.5319482986634834.\n"
     ]
    },
    {
     "data": {
      "application/vnd.jupyter.widget-view+json": {
       "model_id": "a418cbcb29384ab1a73151155acf34d3",
       "version_major": 2,
       "version_minor": 0
      },
      "text/plain": [
       "  0%|          | 0/15 [00:00<?, ?it/s]"
      ]
     },
     "metadata": {},
     "output_type": "display_data"
    },
    {
     "name": "stderr",
     "output_type": "stream",
     "text": [
      "[I 2025-03-02 19:08:13,527] Trial 25 finished with value: 0.5191013144125897 and parameters: {'n_factors': 15, 'alpha': 2.378493400094216, 'regularization': 0.5152748122023434}. Best is trial 23 with value: 0.5319482986634834.\n"
     ]
    },
    {
     "data": {
      "application/vnd.jupyter.widget-view+json": {
       "model_id": "50f275cc26c848c0b955b4742cc4d622",
       "version_major": 2,
       "version_minor": 0
      },
      "text/plain": [
       "  0%|          | 0/15 [00:00<?, ?it/s]"
      ]
     },
     "metadata": {},
     "output_type": "display_data"
    },
    {
     "name": "stderr",
     "output_type": "stream",
     "text": [
      "[I 2025-03-02 19:08:15,359] Trial 26 finished with value: 0.52571867829085 and parameters: {'n_factors': 14, 'alpha': 1.4515082989110115, 'regularization': 0.18947898685821044}. Best is trial 23 with value: 0.5319482986634834.\n"
     ]
    },
    {
     "data": {
      "application/vnd.jupyter.widget-view+json": {
       "model_id": "69ad0df0427b4a58b34ea006dfd1b3e6",
       "version_major": 2,
       "version_minor": 0
      },
      "text/plain": [
       "  0%|          | 0/15 [00:00<?, ?it/s]"
      ]
     },
     "metadata": {},
     "output_type": "display_data"
    },
    {
     "name": "stderr",
     "output_type": "stream",
     "text": [
      "[I 2025-03-02 19:08:17,342] Trial 27 finished with value: 0.4952754639028917 and parameters: {'n_factors': 24, 'alpha': 5.252109599644716, 'regularization': 0.05067132192391767}. Best is trial 23 with value: 0.5319482986634834.\n"
     ]
    },
    {
     "data": {
      "application/vnd.jupyter.widget-view+json": {
       "model_id": "cd1989e0a7a449c9a33abfd8a0babdc1",
       "version_major": 2,
       "version_minor": 0
      },
      "text/plain": [
       "  0%|          | 0/15 [00:00<?, ?it/s]"
      ]
     },
     "metadata": {},
     "output_type": "display_data"
    },
    {
     "name": "stderr",
     "output_type": "stream",
     "text": [
      "[I 2025-03-02 19:08:22,167] Trial 28 finished with value: 0.4805575393039312 and parameters: {'n_factors': 124, 'alpha': 3.7207109862553365, 'regularization': 0.8233344714936579}. Best is trial 23 with value: 0.5319482986634834.\n"
     ]
    },
    {
     "data": {
      "application/vnd.jupyter.widget-view+json": {
       "model_id": "d27b782ced6740d8bde7b8052a552ec6",
       "version_major": 2,
       "version_minor": 0
      },
      "text/plain": [
       "  0%|          | 0/15 [00:00<?, ?it/s]"
      ]
     },
     "metadata": {},
     "output_type": "display_data"
    },
    {
     "name": "stderr",
     "output_type": "stream",
     "text": [
      "[I 2025-03-02 19:09:44,049] Trial 29 finished with value: 0.3468831116547377 and parameters: {'n_factors': 990, 'alpha': 1.7807698162403338, 'regularization': 0.4075985808806571}. Best is trial 23 with value: 0.5319482986634834.\n"
     ]
    },
    {
     "data": {
      "application/vnd.jupyter.widget-view+json": {
       "model_id": "9914b7ea09e64c48a39cb3f9835878c2",
       "version_major": 2,
       "version_minor": 0
      },
      "text/plain": [
       "  0%|          | 0/15 [00:00<?, ?it/s]"
      ]
     },
     "metadata": {},
     "output_type": "display_data"
    },
    {
     "name": "stderr",
     "output_type": "stream",
     "text": [
      "[I 2025-03-02 19:09:46,509] Trial 30 finished with value: 0.5125335702406607 and parameters: {'n_factors': 43, 'alpha': 1.316244622926108, 'regularization': 0.011250504173524044}. Best is trial 23 with value: 0.5319482986634834.\n"
     ]
    },
    {
     "data": {
      "application/vnd.jupyter.widget-view+json": {
       "model_id": "65d8b194b66a414bade8f35e43d0b933",
       "version_major": 2,
       "version_minor": 0
      },
      "text/plain": [
       "  0%|          | 0/15 [00:00<?, ?it/s]"
      ]
     },
     "metadata": {},
     "output_type": "display_data"
    },
    {
     "name": "stderr",
     "output_type": "stream",
     "text": [
      "[I 2025-03-02 19:09:48,297] Trial 31 finished with value: 0.5236817645882649 and parameters: {'n_factors': 12, 'alpha': 2.732554169507604, 'regularization': 1.1985671787175218}. Best is trial 23 with value: 0.5319482986634834.\n"
     ]
    },
    {
     "data": {
      "application/vnd.jupyter.widget-view+json": {
       "model_id": "a2fcb1a75588451c885ef32aa0381f57",
       "version_major": 2,
       "version_minor": 0
      },
      "text/plain": [
       "  0%|          | 0/15 [00:00<?, ?it/s]"
      ]
     },
     "metadata": {},
     "output_type": "display_data"
    },
    {
     "name": "stderr",
     "output_type": "stream",
     "text": [
      "[I 2025-03-02 19:09:50,086] Trial 32 finished with value: 0.5285563718815296 and parameters: {'n_factors': 10, 'alpha': 2.799000774952133, 'regularization': 1.7483563872848737}. Best is trial 23 with value: 0.5319482986634834.\n"
     ]
    },
    {
     "data": {
      "application/vnd.jupyter.widget-view+json": {
       "model_id": "4e7256b82e514e1fb6330a20e6369645",
       "version_major": 2,
       "version_minor": 0
      },
      "text/plain": [
       "  0%|          | 0/15 [00:00<?, ?it/s]"
      ]
     },
     "metadata": {},
     "output_type": "display_data"
    },
    {
     "name": "stderr",
     "output_type": "stream",
     "text": [
      "[I 2025-03-02 19:09:51,956] Trial 33 finished with value: 0.5239233122527651 and parameters: {'n_factors': 14, 'alpha': 2.0675628279786005, 'regularization': 0.6601661295499446}. Best is trial 23 with value: 0.5319482986634834.\n"
     ]
    },
    {
     "data": {
      "application/vnd.jupyter.widget-view+json": {
       "model_id": "f34584d0ab534ebda30fd882dea02930",
       "version_major": 2,
       "version_minor": 0
      },
      "text/plain": [
       "  0%|          | 0/15 [00:00<?, ?it/s]"
      ]
     },
     "metadata": {},
     "output_type": "display_data"
    },
    {
     "name": "stderr",
     "output_type": "stream",
     "text": [
      "[I 2025-03-02 19:09:53,744] Trial 34 finished with value: 0.529823723509085 and parameters: {'n_factors': 10, 'alpha': 2.603403212905296, 'regularization': 0.001001582950633335}. Best is trial 23 with value: 0.5319482986634834.\n"
     ]
    },
    {
     "data": {
      "application/vnd.jupyter.widget-view+json": {
       "model_id": "7d6453077bd6423780368e975d9839c9",
       "version_major": 2,
       "version_minor": 0
      },
      "text/plain": [
       "  0%|          | 0/15 [00:00<?, ?it/s]"
      ]
     },
     "metadata": {},
     "output_type": "display_data"
    },
    {
     "name": "stderr",
     "output_type": "stream",
     "text": [
      "[I 2025-03-02 19:09:55,913] Trial 35 finished with value: 0.5129499793224548 and parameters: {'n_factors': 29, 'alpha': 1.6169530293623937, 'regularization': 0.0325880497569276}. Best is trial 23 with value: 0.5319482986634834.\n"
     ]
    },
    {
     "data": {
      "application/vnd.jupyter.widget-view+json": {
       "model_id": "305b57a9b06e4005a27e8a549b6997a5",
       "version_major": 2,
       "version_minor": 0
      },
      "text/plain": [
       "  0%|          | 0/15 [00:00<?, ?it/s]"
      ]
     },
     "metadata": {},
     "output_type": "display_data"
    },
    {
     "name": "stderr",
     "output_type": "stream",
     "text": [
      "[I 2025-03-02 19:10:13,817] Trial 36 finished with value: 0.4317028983227756 and parameters: {'n_factors': 361, 'alpha': 1.168529653370309, 'regularization': 0.0013576237941139114}. Best is trial 23 with value: 0.5319482986634834.\n"
     ]
    },
    {
     "data": {
      "application/vnd.jupyter.widget-view+json": {
       "model_id": "d670ab943e714147aa7e61c68f13e93d",
       "version_major": 2,
       "version_minor": 0
      },
      "text/plain": [
       "  0%|          | 0/15 [00:00<?, ?it/s]"
      ]
     },
     "metadata": {},
     "output_type": "display_data"
    },
    {
     "name": "stderr",
     "output_type": "stream",
     "text": [
      "[I 2025-03-02 19:10:17,727] Trial 37 finished with value: 0.4840043038727686 and parameters: {'n_factors': 91, 'alpha': 3.716738984539051, 'regularization': 0.0010687459917576828}. Best is trial 23 with value: 0.5319482986634834.\n"
     ]
    },
    {
     "data": {
      "application/vnd.jupyter.widget-view+json": {
       "model_id": "b26d2ebc739849a297b452c70a2ff286",
       "version_major": 2,
       "version_minor": 0
      },
      "text/plain": [
       "  0%|          | 0/15 [00:00<?, ?it/s]"
      ]
     },
     "metadata": {},
     "output_type": "display_data"
    },
    {
     "name": "stderr",
     "output_type": "stream",
     "text": [
      "[I 2025-03-02 19:10:19,810] Trial 38 finished with value: 0.5133202626886868 and parameters: {'n_factors': 23, 'alpha': 2.469128747007989, 'regularization': 0.06647921330624493}. Best is trial 23 with value: 0.5319482986634834.\n"
     ]
    },
    {
     "data": {
      "application/vnd.jupyter.widget-view+json": {
       "model_id": "0a41b1c540914e00bfa3ba8829eb58a2",
       "version_major": 2,
       "version_minor": 0
      },
      "text/plain": [
       "  0%|          | 0/15 [00:00<?, ?it/s]"
      ]
     },
     "metadata": {},
     "output_type": "display_data"
    },
    {
     "name": "stderr",
     "output_type": "stream",
     "text": [
      "[I 2025-03-02 19:10:21,705] Trial 39 finished with value: 0.4986409768160627 and parameters: {'n_factors': 14, 'alpha': 7.690399286178251, 'regularization': 0.0061379314108128925}. Best is trial 23 with value: 0.5319482986634834.\n"
     ]
    },
    {
     "data": {
      "application/vnd.jupyter.widget-view+json": {
       "model_id": "da3e27dc8c5c485c96d6fd96de06fbe2",
       "version_major": 2,
       "version_minor": 0
      },
      "text/plain": [
       "  0%|          | 0/15 [00:00<?, ?it/s]"
      ]
     },
     "metadata": {},
     "output_type": "display_data"
    },
    {
     "name": "stderr",
     "output_type": "stream",
     "text": [
      "[I 2025-03-02 19:10:25,180] Trial 40 finished with value: 0.5098775414618576 and parameters: {'n_factors': 68, 'alpha': 1.0112725739784836, 'regularization': 0.019520875568820276}. Best is trial 23 with value: 0.5319482986634834.\n"
     ]
    },
    {
     "data": {
      "application/vnd.jupyter.widget-view+json": {
       "model_id": "ba70329800b4495f8b8eb2477ca7d694",
       "version_major": 2,
       "version_minor": 0
      },
      "text/plain": [
       "  0%|          | 0/15 [00:00<?, ?it/s]"
      ]
     },
     "metadata": {},
     "output_type": "display_data"
    },
    {
     "name": "stderr",
     "output_type": "stream",
     "text": [
      "[I 2025-03-02 19:10:27,217] Trial 41 finished with value: 0.5284926580071823 and parameters: {'n_factors': 10, 'alpha': 2.816571082023049, 'regularization': 1.2705605810094733}. Best is trial 23 with value: 0.5319482986634834.\n"
     ]
    },
    {
     "data": {
      "application/vnd.jupyter.widget-view+json": {
       "model_id": "ea0ca68b2f154b9a802acff020944f6e",
       "version_major": 2,
       "version_minor": 0
      },
      "text/plain": [
       "  0%|          | 0/15 [00:00<?, ?it/s]"
      ]
     },
     "metadata": {},
     "output_type": "display_data"
    },
    {
     "name": "stderr",
     "output_type": "stream",
     "text": [
      "[I 2025-03-02 19:10:29,106] Trial 42 finished with value: 0.4726404626436217 and parameters: {'n_factors': 13, 'alpha': 19.082517206476872, 'regularization': 1.1189042088530226}. Best is trial 23 with value: 0.5319482986634834.\n"
     ]
    },
    {
     "data": {
      "application/vnd.jupyter.widget-view+json": {
       "model_id": "aa00517830bc47fe8f690c93fa92be68",
       "version_major": 2,
       "version_minor": 0
      },
      "text/plain": [
       "  0%|          | 0/15 [00:00<?, ?it/s]"
      ]
     },
     "metadata": {},
     "output_type": "display_data"
    },
    {
     "name": "stderr",
     "output_type": "stream",
     "text": [
      "[I 2025-03-02 19:10:30,927] Trial 43 finished with value: 0.5321291738586469 and parameters: {'n_factors': 10, 'alpha': 1.9342629299221286, 'regularization': 0.34326600047653477}. Best is trial 43 with value: 0.5321291738586469.\n"
     ]
    },
    {
     "data": {
      "application/vnd.jupyter.widget-view+json": {
       "model_id": "3b79ef3a668048e3a3b2fef29e984629",
       "version_major": 2,
       "version_minor": 0
      },
      "text/plain": [
       "  0%|          | 0/15 [00:00<?, ?it/s]"
      ]
     },
     "metadata": {},
     "output_type": "display_data"
    },
    {
     "name": "stderr",
     "output_type": "stream",
     "text": [
      "[I 2025-03-02 19:10:32,903] Trial 44 finished with value: 0.5224099046051889 and parameters: {'n_factors': 17, 'alpha': 1.5587875596836935, 'regularization': 0.14003329310498647}. Best is trial 43 with value: 0.5321291738586469.\n"
     ]
    },
    {
     "data": {
      "application/vnd.jupyter.widget-view+json": {
       "model_id": "d0e7ff913bf54a9e95f48132fd440aef",
       "version_major": 2,
       "version_minor": 0
      },
      "text/plain": [
       "  0%|          | 0/15 [00:00<?, ?it/s]"
      ]
     },
     "metadata": {},
     "output_type": "display_data"
    },
    {
     "name": "stderr",
     "output_type": "stream",
     "text": [
      "[I 2025-03-02 19:10:34,692] Trial 45 finished with value: 0.5277129429507978 and parameters: {'n_factors': 12, 'alpha': 1.8343164712279247, 'regularization': 0.3071604410884451}. Best is trial 43 with value: 0.5321291738586469.\n"
     ]
    },
    {
     "data": {
      "application/vnd.jupyter.widget-view+json": {
       "model_id": "09ea881458c74017a6296f478ea2af25",
       "version_major": 2,
       "version_minor": 0
      },
      "text/plain": [
       "  0%|          | 0/15 [00:00<?, ?it/s]"
      ]
     },
     "metadata": {},
     "output_type": "display_data"
    },
    {
     "name": "stderr",
     "output_type": "stream",
     "text": [
      "[I 2025-03-02 19:10:37,052] Trial 46 finished with value: 0.5048781698786811 and parameters: {'n_factors': 37, 'alpha': 2.5925114772981286, 'regularization': 0.1870158636511454}. Best is trial 43 with value: 0.5321291738586469.\n"
     ]
    },
    {
     "data": {
      "application/vnd.jupyter.widget-view+json": {
       "model_id": "c39fd1be229946e39fc4ea7758aa4ddc",
       "version_major": 2,
       "version_minor": 0
      },
      "text/plain": [
       "  0%|          | 0/15 [00:00<?, ?it/s]"
      ]
     },
     "metadata": {},
     "output_type": "display_data"
    },
    {
     "name": "stderr",
     "output_type": "stream",
     "text": [
      "[I 2025-03-02 19:10:39,041] Trial 47 finished with value: 0.5173371604356111 and parameters: {'n_factors': 19, 'alpha': 1.9998342004766478, 'regularization': 0.6720289416803419}. Best is trial 43 with value: 0.5321291738586469.\n"
     ]
    },
    {
     "data": {
      "application/vnd.jupyter.widget-view+json": {
       "model_id": "008649746e854bdc9c362f2a37a75038",
       "version_major": 2,
       "version_minor": 0
      },
      "text/plain": [
       "  0%|          | 0/15 [00:00<?, ?it/s]"
      ]
     },
     "metadata": {},
     "output_type": "display_data"
    },
    {
     "name": "stderr",
     "output_type": "stream",
     "text": [
      "[I 2025-03-02 19:10:40,831] Trial 48 finished with value: 0.5368913089539311 and parameters: {'n_factors': 10, 'alpha': 1.4090795525509194, 'regularization': 0.0020124710135406803}. Best is trial 48 with value: 0.5368913089539311.\n"
     ]
    },
    {
     "data": {
      "application/vnd.jupyter.widget-view+json": {
       "model_id": "8de6273d8f0a4deb99f45c9ce7a3bc53",
       "version_major": 2,
       "version_minor": 0
      },
      "text/plain": [
       "  0%|          | 0/15 [00:00<?, ?it/s]"
      ]
     },
     "metadata": {},
     "output_type": "display_data"
    },
    {
     "name": "stderr",
     "output_type": "stream",
     "text": [
      "[I 2025-03-02 19:10:42,672] Trial 49 finished with value: 0.5244479240603567 and parameters: {'n_factors': 16, 'alpha': 1.3682365145000857, 'regularization': 0.0027680558552798163}. Best is trial 48 with value: 0.5368913089539311.\n"
     ]
    }
   ],
   "source": [
    "study = optuna.create_study(direction='maximize')\n",
    "study.optimize(objective, n_trials=50)\n",
    "\n",
    "best_params = study.best_params\n",
    "best_ndcg = study.best_value"
   ]
  },
  {
   "cell_type": "code",
   "execution_count": 36,
   "id": "195815f6-cfbd-48af-93a3-75e4f588270c",
   "metadata": {},
   "outputs": [
    {
     "name": "stdout",
     "output_type": "stream",
     "text": [
      "Optuna iALS results: \n",
      "best_params: {'n_factors': 10, 'alpha': 1.4090795525509194, 'regularization': 0.0020124710135406803}, \n",
      "best_ndcg: 0.5368913089539311\n"
     ]
    }
   ],
   "source": [
    "print(f'Optuna iALS results: \\nbest_params: {best_params}, \\nbest_ndcg: {best_ndcg}')"
   ]
  },
  {
   "cell_type": "markdown",
   "id": "81f3b1cc-760b-4d6a-ab8a-aca57b7b6dfe",
   "metadata": {},
   "source": [
    "##### Задание 3.2. Сделайте объяснение рекомендаций для нескольких юзеров(als.explain). Воспользуйтесь файлом movies.dat чтобы перейти от индексов фильмов к их названием"
   ]
  },
  {
   "cell_type": "code",
   "execution_count": 37,
   "id": "98d296eb-3477-4678-8340-c4159302f77b",
   "metadata": {},
   "outputs": [
    {
     "name": "stdout",
     "output_type": "stream",
     "text": [
      "Error: utf-8\n",
      "Success: ISO-8859-1\n"
     ]
    }
   ],
   "source": [
    "encodings = ['utf-8', 'ISO-8859-1', 'latin-1', 'cp1252']\n",
    "\n",
    "for enc in encodings:\n",
    "    try:\n",
    "        movies_df = pd.read_csv('ml-1m/movies.dat',\n",
    "                                sep='::',\n",
    "                                engine='python',\n",
    "                                encoding=enc,\n",
    "                                names=['item_id', 'title', 'genres'],\n",
    "                                header=None\n",
    "                               )\n",
    "        print(f'Success: {enc}')\n",
    "        break\n",
    "    except UnicodeDecodeError:\n",
    "        print(f'Error: {enc}')"
   ]
  },
  {
   "cell_type": "code",
   "execution_count": 38,
   "id": "45acd157-8eae-4b2b-a8bb-aec6b6da8ced",
   "metadata": {},
   "outputs": [
    {
     "data": {
      "text/html": [
       "<div>\n",
       "<style scoped>\n",
       "    .dataframe tbody tr th:only-of-type {\n",
       "        vertical-align: middle;\n",
       "    }\n",
       "\n",
       "    .dataframe tbody tr th {\n",
       "        vertical-align: top;\n",
       "    }\n",
       "\n",
       "    .dataframe thead th {\n",
       "        text-align: right;\n",
       "    }\n",
       "</style>\n",
       "<table border=\"1\" class=\"dataframe\">\n",
       "  <thead>\n",
       "    <tr style=\"text-align: right;\">\n",
       "      <th></th>\n",
       "      <th>item_id</th>\n",
       "      <th>title</th>\n",
       "      <th>genres</th>\n",
       "    </tr>\n",
       "  </thead>\n",
       "  <tbody>\n",
       "    <tr>\n",
       "      <th>0</th>\n",
       "      <td>1</td>\n",
       "      <td>Toy Story (1995)</td>\n",
       "      <td>Animation|Children's|Comedy</td>\n",
       "    </tr>\n",
       "    <tr>\n",
       "      <th>1</th>\n",
       "      <td>2</td>\n",
       "      <td>Jumanji (1995)</td>\n",
       "      <td>Adventure|Children's|Fantasy</td>\n",
       "    </tr>\n",
       "    <tr>\n",
       "      <th>2</th>\n",
       "      <td>3</td>\n",
       "      <td>Grumpier Old Men (1995)</td>\n",
       "      <td>Comedy|Romance</td>\n",
       "    </tr>\n",
       "    <tr>\n",
       "      <th>3</th>\n",
       "      <td>4</td>\n",
       "      <td>Waiting to Exhale (1995)</td>\n",
       "      <td>Comedy|Drama</td>\n",
       "    </tr>\n",
       "    <tr>\n",
       "      <th>4</th>\n",
       "      <td>5</td>\n",
       "      <td>Father of the Bride Part II (1995)</td>\n",
       "      <td>Comedy</td>\n",
       "    </tr>\n",
       "  </tbody>\n",
       "</table>\n",
       "</div>"
      ],
      "text/plain": [
       "   item_id                               title                        genres\n",
       "0        1                    Toy Story (1995)   Animation|Children's|Comedy\n",
       "1        2                      Jumanji (1995)  Adventure|Children's|Fantasy\n",
       "2        3             Grumpier Old Men (1995)                Comedy|Romance\n",
       "3        4            Waiting to Exhale (1995)                  Comedy|Drama\n",
       "4        5  Father of the Bride Part II (1995)                        Comedy"
      ]
     },
     "execution_count": 38,
     "metadata": {},
     "output_type": "execute_result"
    }
   ],
   "source": [
    "movies_df.head()"
   ]
  },
  {
   "cell_type": "code",
   "execution_count": 39,
   "id": "2089de18-f43c-4b74-9b02-9ba13899fdbb",
   "metadata": {},
   "outputs": [
    {
     "data": {
      "application/vnd.jupyter.widget-view+json": {
       "model_id": "8edaa02fbcce46fa8ed81602bcfd04e2",
       "version_major": 2,
       "version_minor": 0
      },
      "text/plain": [
       "  0%|          | 0/15 [00:00<?, ?it/s]"
      ]
     },
     "metadata": {},
     "output_type": "display_data"
    }
   ],
   "source": [
    "best_als_recs, best_als = make_als_recommendations(interactions,\n",
    "                                                   100,\n",
    "                                                   **best_params\n",
    "                                                  )"
   ]
  },
  {
   "cell_type": "code",
   "execution_count": 41,
   "id": "12ee1866-a9df-445e-b855-e56755bb500e",
   "metadata": {},
   "outputs": [
    {
     "data": {
      "text/plain": [
       "array([2341, 4761, 1384, 2378, 1211, 2590, 4589, 1722, 3865,  208])"
      ]
     },
     "execution_count": 41,
     "metadata": {},
     "output_type": "execute_result"
    }
   ],
   "source": [
    "users_for_explain = np.random.choice(df_test.user_id.unique(), size=10, replace=False)\n",
    "users_for_explain"
   ]
  },
  {
   "cell_type": "code",
   "execution_count": 42,
   "id": "e73fdf04-3e36-4e7b-8edb-24e76a4bdbd3",
   "metadata": {},
   "outputs": [],
   "source": [
    "explanation_dict = {}\n",
    "\n",
    "for user_id in users_for_explain:\n",
    "    real_user_id = user_le.inverse_transform([user_id])[0]\n",
    "    predicted = best_als_recs[user_id]\n",
    "    explanations = []\n",
    "    \n",
    "    for item_id in predicted[:5]:\n",
    "        try:\n",
    "            total_score, contributions, user_weights = best_als.explain(user_id, csr_matrix(interactions), item_id)\n",
    "\n",
    "            real_item_id = item_le.inverse_transform([item_id])[0]\n",
    "\n",
    "            recomendation = movies_df[movies_df['item_id'] == real_item_id]\n",
    "            recomendation_title = recomendation.title.values[0]\n",
    "            recomendation_genre = recomendation.genres.values[0]\n",
    "\n",
    "            influencing_movies = {}\n",
    "            \n",
    "            for movie_id, score in contributions:\n",
    "                real_item_id_i = item_le.inverse_transform([movie_id])[0]\n",
    "                influencing_title = movies_df[movies_df['item_id'] == real_item_id_i].title.values[0]\n",
    "                \n",
    "                influencing_movies[influencing_title] = score\n",
    "\n",
    "            explanations.append([recomendation_title, recomendation_genre, total_score, influencing_movies])\n",
    "            \n",
    "        except:\n",
    "            continue\n",
    "    \n",
    "    explanation_dict[real_user_id] = explanations"
   ]
  },
  {
   "cell_type": "code",
   "execution_count": 51,
   "id": "aaa11a4d-8757-4fe9-afe9-7efe801b8b72",
   "metadata": {},
   "outputs": [
    {
     "name": "stdout",
     "output_type": "stream",
     "text": [
      "\n",
      "Объяснение рекомендаций для юзера 3017\n",
      "\n",
      "Фильм-рекомендация: Life Is Beautiful (La Vita è bella) (1997) (Comedy|Drama)\n",
      "Общий вклад всех просмотренных фильмов: 1.1842\n",
      "Влияющие фильмы (топ-5):\n",
      "- Фильм Schindler's List (1993), вклад в скор: 0.0180\n",
      "- Фильм American Beauty (1999), вклад в скор: 0.0177\n",
      "- Фильм Babe (1995), вклад в скор: 0.0171\n",
      "- Фильм Wrong Trousers, The (1993), вклад в скор: 0.0167\n",
      "- Фильм Shawshank Redemption, The (1994), вклад в скор: 0.0160\n",
      "\n",
      "Фильм-рекомендация: Good Will Hunting (1997) (Drama)\n",
      "Общий вклад всех просмотренных фильмов: 1.1614\n",
      "Влияющие фильмы (топ-5):\n",
      "- Фильм Schindler's List (1993), вклад в скор: 0.0297\n",
      "- Фильм Shawshank Redemption, The (1994), вклад в скор: 0.0276\n",
      "- Фильм Jerry Maguire (1996), вклад в скор: 0.0270\n",
      "- Фильм Apollo 13 (1995), вклад в скор: 0.0247\n",
      "- Фильм Silence of the Lambs, The (1991), вклад в скор: 0.0245\n",
      "\n",
      "Фильм-рекомендация: Elizabeth (1998) (Drama)\n",
      "Общий вклад всех просмотренных фильмов: 1.0636\n",
      "Влияющие фильмы (топ-5):\n",
      "- Фильм Sixth Sense, The (1999), вклад в скор: 0.0348\n",
      "- Фильм Erin Brockovich (2000), вклад в скор: 0.0327\n",
      "- Фильм Gods and Monsters (1998), вклад в скор: 0.0305\n",
      "- Фильм Shakespeare in Love (1998), вклад в скор: 0.0300\n",
      "- Фильм Desperately Seeking Susan (1985), вклад в скор: 0.0269\n",
      "\n",
      "Фильм-рекомендация: Much Ado About Nothing (1993) (Comedy|Romance)\n",
      "Общий вклад всех просмотренных фильмов: 1.0089\n",
      "Влияющие фильмы (топ-5):\n",
      "- Фильм Wrong Trousers, The (1993), вклад в скор: 0.0215\n",
      "- Фильм Strictly Ballroom (1992), вклад в скор: 0.0205\n",
      "- Фильм Close Shave, A (1995), вклад в скор: 0.0171\n",
      "- Фильм Grand Day Out, A (1992), вклад в скор: 0.0168\n",
      "- Фильм Clueless (1995), вклад в скор: 0.0163\n",
      "\n",
      "Фильм-рекомендация: Talented Mr. Ripley, The (1999) (Drama|Mystery|Thriller)\n",
      "Общий вклад всех просмотренных фильмов: 1.0025\n",
      "Влияющие фильмы (топ-5):\n",
      "- Фильм Erin Brockovich (2000), вклад в скор: 0.0414\n",
      "- Фильм Sixth Sense, The (1999), вклад в скор: 0.0395\n",
      "- Фильм American Beauty (1999), вклад в скор: 0.0358\n",
      "- Фильм Shakespeare in Love (1998), вклад в скор: 0.0309\n",
      "- Фильм Gods and Monsters (1998), вклад в скор: 0.0269\n",
      "\n",
      "------------------------------------------------------------\n",
      "\n",
      "Объяснение рекомендаций для юзера 5437\n",
      "\n",
      "Фильм-рекомендация: Terminator 2: Judgment Day (1991) (Action|Sci-Fi|Thriller)\n",
      "Общий вклад всех просмотренных фильмов: 1.0715\n",
      "Влияющие фильмы (топ-5):\n",
      "- Фильм Jurassic Park (1993), вклад в скор: 0.0297\n",
      "- Фильм Matrix, The (1999), вклад в скор: 0.0294\n",
      "- Фильм Sixth Sense, The (1999), вклад в скор: 0.0280\n",
      "- Фильм Raiders of the Lost Ark (1981), вклад в скор: 0.0273\n",
      "- Фильм Star Wars: Episode IV - A New Hope (1977), вклад в скор: 0.0269\n",
      "\n",
      "Фильм-рекомендация: Princess Bride, The (1987) (Action|Adventure|Comedy|Romance)\n",
      "Общий вклад всех просмотренных фильмов: 1.0654\n",
      "Влияющие фильмы (топ-5):\n",
      "- Фильм Raiders of the Lost Ark (1981), вклад в скор: 0.0278\n",
      "- Фильм Back to the Future (1985), вклад в скор: 0.0265\n",
      "- Фильм Star Wars: Episode VI - Return of the Jedi (1983), вклад в скор: 0.0255\n",
      "- Фильм American Beauty (1999), вклад в скор: 0.0247\n",
      "- Фильм Star Wars: Episode IV - A New Hope (1977), вклад в скор: 0.0245\n",
      "\n",
      "Фильм-рекомендация: Aliens (1986) (Action|Sci-Fi|Thriller|War)\n",
      "Общий вклад всех просмотренных фильмов: 1.0489\n",
      "Влияющие фильмы (топ-5):\n",
      "- Фильм Blade Runner (1982), вклад в скор: 0.0286\n",
      "- Фильм Terminator, The (1984), вклад в скор: 0.0252\n",
      "- Фильм E.T. the Extra-Terrestrial (1982), вклад в скор: 0.0247\n",
      "- Фильм Alien (1979), вклад в скор: 0.0240\n",
      "- Фильм Mad Max (1979), вклад в скор: 0.0235\n",
      "\n",
      "Фильм-рекомендация: Braveheart (1995) (Action|Drama|War)\n",
      "Общий вклад всех просмотренных фильмов: 0.9601\n",
      "Влияющие фильмы (топ-5):\n",
      "- Фильм Saving Private Ryan (1998), вклад в скор: 0.0324\n",
      "- Фильм Sixth Sense, The (1999), вклад в скор: 0.0317\n",
      "- Фильм Silence of the Lambs, The (1991), вклад в скор: 0.0293\n",
      "- Фильм American Beauty (1999), вклад в скор: 0.0292\n",
      "- Фильм Raiders of the Lost Ark (1981), вклад в скор: 0.0284\n",
      "\n",
      "Фильм-рекомендация: Full Metal Jacket (1987) (Action|Drama|War)\n",
      "Общий вклад всех просмотренных фильмов: 0.9359\n",
      "Влияющие фильмы (топ-5):\n",
      "- Фильм Die Hard (1988), вклад в скор: 0.0224\n",
      "- Фильм Reservoir Dogs (1992), вклад в скор: 0.0203\n",
      "- Фильм Untouchables, The (1987), вклад в скор: 0.0199\n",
      "- Фильм Glory (1989), вклад в скор: 0.0198\n",
      "- Фильм Lethal Weapon (1987), вклад в скор: 0.0172\n",
      "\n",
      "------------------------------------------------------------\n",
      "\n",
      "Объяснение рекомендаций для юзера 2057\n",
      "\n",
      "Фильм-рекомендация: Shawshank Redemption, The (1994) (Drama)\n",
      "Общий вклад всех просмотренных фильмов: 0.1715\n",
      "Влияющие фильмы (топ-5):\n",
      "- Фильм Silence of the Lambs, The (1991), вклад в скор: 0.0908\n",
      "- Фильм Jurassic Park (1993), вклад в скор: 0.0443\n",
      "- Фильм Fatal Attraction (1987), вклад в скор: 0.0274\n",
      "- Фильм Natural, The (1984), вклад в скор: 0.0115\n",
      "- Фильм Bonfire of the Vanities (1990), вклад в скор: -0.0025\n",
      "\n",
      "Фильм-рекомендация: Schindler's List (1993) (Drama|War)\n",
      "Общий вклад всех просмотренных фильмов: 0.1715\n",
      "Влияющие фильмы (топ-5):\n",
      "- Фильм Silence of the Lambs, The (1991), вклад в скор: 0.0904\n",
      "- Фильм Jurassic Park (1993), вклад в скор: 0.0489\n",
      "- Фильм Fatal Attraction (1987), вклад в скор: 0.0266\n",
      "- Фильм Natural, The (1984), вклад в скор: 0.0082\n",
      "- Фильм Bonfire of the Vanities (1990), вклад в скор: -0.0027\n",
      "\n",
      "Фильм-рекомендация: Saving Private Ryan (1998) (Action|Drama|War)\n",
      "Общий вклад всех просмотренных фильмов: 0.1652\n",
      "Влияющие фильмы (топ-5):\n",
      "- Фильм Silence of the Lambs, The (1991), вклад в скор: 0.0858\n",
      "- Фильм Jurassic Park (1993), вклад в скор: 0.0584\n",
      "- Фильм Fatal Attraction (1987), вклад в скор: 0.0220\n",
      "- Фильм Natural, The (1984), вклад в скор: 0.0017\n",
      "- Фильм Bonfire of the Vanities (1990), вклад в скор: -0.0027\n",
      "\n",
      "Фильм-рекомендация: Braveheart (1995) (Action|Drama|War)\n",
      "Общий вклад всех просмотренных фильмов: 0.1560\n",
      "Влияющие фильмы (топ-5):\n",
      "- Фильм Silence of the Lambs, The (1991), вклад в скор: 0.0825\n",
      "- Фильм Jurassic Park (1993), вклад в скор: 0.0589\n",
      "- Фильм Fatal Attraction (1987), вклад в скор: 0.0190\n",
      "- Фильм Natural, The (1984), вклад в скор: -0.0018\n",
      "- Фильм Bonfire of the Vanities (1990), вклад в скор: -0.0026\n",
      "\n",
      "Фильм-рекомендация: Sixth Sense, The (1999) (Thriller)\n",
      "Общий вклад всех просмотренных фильмов: 0.1548\n",
      "Влияющие фильмы (топ-5):\n",
      "- Фильм Silence of the Lambs, The (1991), вклад в скор: 0.0756\n",
      "- Фильм Jurassic Park (1993), вклад в скор: 0.0532\n",
      "- Фильм Fatal Attraction (1987), вклад в скор: 0.0257\n",
      "- Фильм Natural, The (1984), вклад в скор: 0.0021\n",
      "- Фильм Bonfire of the Vanities (1990), вклад в скор: -0.0018\n",
      "\n",
      "------------------------------------------------------------\n",
      "\n",
      "Объяснение рекомендаций для юзера 3054\n",
      "\n",
      "Фильм-рекомендация: High Fidelity (2000) (Comedy)\n",
      "Общий вклад всех просмотренных фильмов: 1.1676\n",
      "Влияющие фильмы (топ-5):\n",
      "- Фильм American Beauty (1999), вклад в скор: 0.0306\n",
      "- Фильм Almost Famous (2000), вклад в скор: 0.0276\n",
      "- Фильм Being John Malkovich (1999), вклад в скор: 0.0250\n",
      "- Фильм Magnolia (1999), вклад в скор: 0.0247\n",
      "- Фильм Election (1999), вклад в скор: 0.0246\n",
      "\n",
      "Фильм-рекомендация: Wrong Trousers, The (1993) (Animation|Comedy)\n",
      "Общий вклад всех просмотренных фильмов: 1.1559\n",
      "Влияющие фильмы (топ-5):\n",
      "- Фильм Beauty and the Beast (1991), вклад в скор: 0.0242\n",
      "- Фильм Toy Story (1995), вклад в скор: 0.0241\n",
      "- Фильм Chicken Run (2000), вклад в скор: 0.0237\n",
      "- Фильм Fantasia (1940), вклад в скор: 0.0220\n",
      "- Фильм Producers, The (1968), вклад в скор: 0.0209\n",
      "\n",
      "Фильм-рекомендация: Life Is Beautiful (La Vita è bella) (1997) (Comedy|Drama)\n",
      "Общий вклад всех просмотренных фильмов: 1.1084\n",
      "Влияющие фильмы (топ-5):\n",
      "- Фильм Babe (1995), вклад в скор: 0.0176\n",
      "- Фильм Shawshank Redemption, The (1994), вклад в скор: 0.0173\n",
      "- Фильм Toy Story (1995), вклад в скор: 0.0164\n",
      "- Фильм Pulp Fiction (1994), вклад в скор: 0.0161\n",
      "- Фильм American Beauty (1999), вклад в скор: 0.0157\n",
      "\n",
      "Фильм-рекомендация: Hoop Dreams (1994) (Documentary)\n",
      "Общий вклад всех просмотренных фильмов: 1.0679\n",
      "Влияющие фильмы (топ-5):\n",
      "- Фильм GoodFellas (1990), вклад в скор: 0.0231\n",
      "- Фильм Pulp Fiction (1994), вклад в скор: 0.0202\n",
      "- Фильм Player, The (1992), вклад в скор: 0.0171\n",
      "- Фильм Fargo (1996), вклад в скор: 0.0168\n",
      "- Фильм Boogie Nights (1997), вклад в скор: 0.0157\n",
      "\n",
      "Фильм-рекомендация: Close Shave, A (1995) (Animation|Comedy|Thriller)\n",
      "Общий вклад всех просмотренных фильмов: 1.0646\n",
      "Влияющие фильмы (топ-5):\n",
      "- Фильм Beauty and the Beast (1991), вклад в скор: 0.0238\n",
      "- Фильм Chicken Run (2000), вклад в скор: 0.0224\n",
      "- Фильм Toy Story (1995), вклад в скор: 0.0213\n",
      "- Фильм Fantasia (1940), вклад в скор: 0.0212\n",
      "- Фильм City of Lost Children, The (1995), вклад в скор: 0.0205\n",
      "\n",
      "------------------------------------------------------------\n",
      "\n",
      "Объяснение рекомендаций для юзера 1884\n",
      "\n",
      "Фильм-рекомендация: Seven Samurai (The Magnificent Seven) (Shichinin no samurai) (1954) (Action|Drama)\n",
      "Общий вклад всех просмотренных фильмов: 1.1578\n",
      "Влияющие фильмы (топ-5):\n",
      "- Фильм Double Indemnity (1944), вклад в скор: 0.0166\n",
      "- Фильм Manchurian Candidate, The (1962), вклад в скор: 0.0152\n",
      "- Фильм M (1931), вклад в скор: 0.0148\n",
      "- Фильм Touch of Evil (1958), вклад в скор: 0.0143\n",
      "- Фильм French Connection, The (1971), вклад в скор: 0.0134\n",
      "\n",
      "Фильм-рекомендация: Boat, The (Das Boot) (1981) (Action|Drama|War)\n",
      "Общий вклад всех просмотренных фильмов: 1.1520\n",
      "Влияющие фильмы (топ-5):\n",
      "- Фильм Fugitive, The (1993), вклад в скор: 0.0220\n",
      "- Фильм French Connection, The (1971), вклад в скор: 0.0191\n",
      "- Фильм Speed (1994), вклад в скор: 0.0175\n",
      "- Фильм Fargo (1996), вклад в скор: 0.0156\n",
      "- Фильм Unforgiven (1992), вклад в скор: 0.0154\n",
      "\n",
      "Фильм-рекомендация: Godfather, The (1972) (Action|Crime|Drama)\n",
      "Общий вклад всех просмотренных фильмов: 1.0622\n",
      "Влияющие фильмы (топ-5):\n",
      "- Фильм Fargo (1996), вклад в скор: 0.0271\n",
      "- Фильм Raiders of the Lost Ark (1981), вклад в скор: 0.0247\n",
      "- Фильм American Beauty (1999), вклад в скор: 0.0231\n",
      "- Фильм Silence of the Lambs, The (1991), вклад в скор: 0.0226\n",
      "- Фильм L.A. Confidential (1997), вклад в скор: 0.0201\n",
      "\n",
      "Фильм-рекомендация: Citizen Kane (1941) (Drama)\n",
      "Общий вклад всех просмотренных фильмов: 0.9868\n",
      "Влияющие фильмы (топ-5):\n",
      "- Фильм Psycho (1960), вклад в скор: 0.0205\n",
      "- Фильм North by Northwest (1959), вклад в скор: 0.0179\n",
      "- Фильм Fargo (1996), вклад в скор: 0.0176\n",
      "- Фильм Rear Window (1954), вклад в скор: 0.0165\n",
      "- Фильм Casablanca (1942), вклад в скор: 0.0162\n",
      "\n",
      "Фильм-рекомендация: Godfather: Part II, The (1974) (Action|Crime|Drama)\n",
      "Общий вклад всех просмотренных фильмов: 0.9689\n",
      "Влияющие фильмы (топ-5):\n",
      "- Фильм Fargo (1996), вклад в скор: 0.0236\n",
      "- Фильм Taxi Driver (1976), вклад в скор: 0.0209\n",
      "- Фильм Raiders of the Lost Ark (1981), вклад в скор: 0.0206\n",
      "- Фильм Butch Cassidy and the Sundance Kid (1969), вклад в скор: 0.0202\n",
      "- Фильм French Connection, The (1971), вклад в скор: 0.0196\n",
      "\n",
      "------------------------------------------------------------\n",
      "\n",
      "Объяснение рекомендаций для юзера 3266\n",
      "\n",
      "Фильм-рекомендация: One Flew Over the Cuckoo's Nest (1975) (Drama)\n",
      "Общий вклад всех просмотренных фильмов: 1.0908\n",
      "Влияющие фильмы (топ-5):\n",
      "- Фильм Silence of the Lambs, The (1991), вклад в скор: 0.0298\n",
      "- Фильм Schindler's List (1993), вклад в скор: 0.0295\n",
      "- Фильм Shawshank Redemption, The (1994), вклад в скор: 0.0290\n",
      "- Фильм American Beauty (1999), вклад в скор: 0.0285\n",
      "- Фильм Fargo (1996), вклад в скор: 0.0275\n",
      "\n",
      "Фильм-рекомендация: Godfather, The (1972) (Action|Crime|Drama)\n",
      "Общий вклад всех просмотренных фильмов: 1.0246\n",
      "Влияющие фильмы (топ-5):\n",
      "- Фильм Saving Private Ryan (1998), вклад в скор: 0.0323\n",
      "- Фильм American Beauty (1999), вклад в скор: 0.0297\n",
      "- Фильм Silence of the Lambs, The (1991), вклад в скор: 0.0291\n",
      "- Фильм Schindler's List (1993), вклад в скор: 0.0291\n",
      "- Фильм Raiders of the Lost Ark (1981), вклад в скор: 0.0291\n",
      "\n",
      "Фильм-рекомендация: Fight Club (1999) (Drama)\n",
      "Общий вклад всех просмотренных фильмов: 1.0042\n",
      "Влияющие фильмы (топ-5):\n",
      "- Фильм Boys Don't Cry (1999), вклад в скор: 0.0330\n",
      "- Фильм Being John Malkovich (1999), вклад в скор: 0.0315\n",
      "- Фильм American Beauty (1999), вклад в скор: 0.0311\n",
      "- Фильм Sixth Sense, The (1999), вклад в скор: 0.0294\n",
      "- Фильм Bringing Out the Dead (1999), вклад в скор: 0.0292\n",
      "\n",
      "Фильм-рекомендация: Election (1999) (Comedy)\n",
      "Общий вклад всех просмотренных фильмов: 0.9987\n",
      "Влияющие фильмы (топ-5):\n",
      "- Фильм Being John Malkovich (1999), вклад в скор: 0.0456\n",
      "- Фильм American Beauty (1999), вклад в скор: 0.0358\n",
      "- Фильм Shakespeare in Love (1998), вклад в скор: 0.0294\n",
      "- Фильм Almost Famous (2000), вклад в скор: 0.0276\n",
      "- Фильм Diner (1982), вклад в скор: 0.0271\n",
      "\n",
      "Фильм-рекомендация: Elizabeth (1998) (Drama)\n",
      "Общий вклад всех просмотренных фильмов: 0.9414\n",
      "Влияющие фильмы (топ-5):\n",
      "- Фильм Boys Don't Cry (1999), вклад в скор: 0.0361\n",
      "- Фильм Talented Mr. Ripley, The (1999), вклад в скор: 0.0355\n",
      "- Фильм Red Violin, The (Le Violon rouge) (1998), вклад в скор: 0.0346\n",
      "- Фильм Gods and Monsters (1998), вклад в скор: 0.0329\n",
      "- Фильм Out of Africa (1985), вклад в скор: 0.0313\n",
      "\n",
      "------------------------------------------------------------\n",
      "\n",
      "Объяснение рекомендаций для юзера 5265\n",
      "\n",
      "Фильм-рекомендация: Schindler's List (1993) (Drama|War)\n",
      "Общий вклад всех просмотренных фильмов: 1.0497\n",
      "Влияющие фильмы (топ-5):\n",
      "- Фильм Fargo (1996), вклад в скор: 0.0365\n",
      "- Фильм American Beauty (1999), вклад в скор: 0.0342\n",
      "- Фильм Shawshank Redemption, The (1994), вклад в скор: 0.0325\n",
      "- Фильм Sixth Sense, The (1999), вклад в скор: 0.0308\n",
      "- Фильм Sling Blade (1996), вклад в скор: 0.0268\n",
      "\n",
      "Фильм-рекомендация: Third Man, The (1949) (Mystery|Thriller)\n",
      "Общий вклад всех просмотренных фильмов: 1.0217\n",
      "Влияющие фильмы (топ-5):\n",
      "- Фильм Double Indemnity (1944), вклад в скор: 0.0240\n",
      "- Фильм Strangers on a Train (1951), вклад в скор: 0.0210\n",
      "- Фильм Sunset Blvd. (a.k.a. Sunset Boulevard) (1950), вклад в скор: 0.0208\n",
      "- Фильм Notorious (1946), вклад в скор: 0.0202\n",
      "- Фильм Big Sleep, The (1946), вклад в скор: 0.0192\n",
      "\n",
      "Фильм-рекомендация: Run Lola Run (Lola rennt) (1998) (Action|Crime|Romance)\n",
      "Общий вклад всех просмотренных фильмов: 1.0061\n",
      "Влияющие фильмы (топ-5):\n",
      "- Фильм Magnolia (1999), вклад в скор: 0.0233\n",
      "- Фильм Being John Malkovich (1999), вклад в скор: 0.0224\n",
      "- Фильм American Beauty (1999), вклад в скор: 0.0224\n",
      "- Фильм Boys Don't Cry (1999), вклад в скор: 0.0207\n",
      "- Фильм Twelve Monkeys (1995), вклад в скор: 0.0191\n",
      "\n",
      "Фильм-рекомендация: Godfather: Part II, The (1974) (Action|Crime|Drama)\n",
      "Общий вклад всех просмотренных фильмов: 1.0009\n",
      "Влияющие фильмы (топ-5):\n",
      "- Фильм Godfather, The (1972), вклад в скор: 0.0247\n",
      "- Фильм Fargo (1996), вклад в скор: 0.0241\n",
      "- Фильм American Beauty (1999), вклад в скор: 0.0231\n",
      "- Фильм Taxi Driver (1976), вклад в скор: 0.0219\n",
      "- Фильм Boat, The (Das Boot) (1981), вклад в скор: 0.0201\n",
      "\n",
      "Фильм-рекомендация: Crumb (1994) (Documentary)\n",
      "Общий вклад всех просмотренных фильмов: 0.9911\n",
      "Влияющие фильмы (топ-5):\n",
      "- Фильм Welcome to the Dollhouse (1995), вклад в скор: 0.0174\n",
      "- Фильм Player, The (1992), вклад в скор: 0.0168\n",
      "- Фильм Touch of Evil (1958), вклад в скор: 0.0154\n",
      "- Фильм Do the Right Thing (1989), вклад в скор: 0.0150\n",
      "- Фильм Simple Plan, A (1998), вклад в скор: 0.0144\n",
      "\n",
      "------------------------------------------------------------\n",
      "\n",
      "Объяснение рекомендаций для юзера 2395\n",
      "\n",
      "Фильм-рекомендация: Terminator 2: Judgment Day (1991) (Action|Sci-Fi|Thriller)\n",
      "Общий вклад всех просмотренных фильмов: 0.8755\n",
      "Влияющие фильмы (топ-5):\n",
      "- Фильм Jurassic Park (1993), вклад в скор: 0.0467\n",
      "- Фильм Saving Private Ryan (1998), вклад в скор: 0.0405\n",
      "- Фильм American Beauty (1999), вклад в скор: 0.0378\n",
      "- Фильм Matrix, The (1999), вклад в скор: 0.0373\n",
      "- Фильм Star Wars: Episode V - The Empire Strikes Back (1980), вклад в скор: 0.0325\n",
      "\n",
      "Фильм-рекомендация: Silence of the Lambs, The (1991) (Drama|Thriller)\n",
      "Общий вклад всех просмотренных фильмов: 0.8684\n",
      "Влияющие фильмы (топ-5):\n",
      "- Фильм Saving Private Ryan (1998), вклад в скор: 0.0475\n",
      "- Фильм American Beauty (1999), вклад в скор: 0.0460\n",
      "- Фильм Pulp Fiction (1994), вклад в скор: 0.0454\n",
      "- Фильм GoodFellas (1990), вклад в скор: 0.0417\n",
      "- Фильм Godfather, The (1972), вклад в скор: 0.0383\n",
      "\n",
      "Фильм-рекомендация: Star Wars: Episode IV - A New Hope (1977) (Action|Adventure|Fantasy|Sci-Fi)\n",
      "Общий вклад всех просмотренных фильмов: 0.8678\n",
      "Влияющие фильмы (топ-5):\n",
      "- Фильм Jurassic Park (1993), вклад в скор: 0.0449\n",
      "- Фильм American Beauty (1999), вклад в скор: 0.0444\n",
      "- Фильм Star Wars: Episode V - The Empire Strikes Back (1980), вклад в скор: 0.0420\n",
      "- Фильм Saving Private Ryan (1998), вклад в скор: 0.0392\n",
      "- Фильм Godfather, The (1972), вклад в скор: 0.0357\n",
      "\n",
      "Фильм-рекомендация: Raiders of the Lost Ark (1981) (Action|Adventure)\n",
      "Общий вклад всех просмотренных фильмов: 0.8597\n",
      "Влияющие фильмы (топ-5):\n",
      "- Фильм American Beauty (1999), вклад в скор: 0.0377\n",
      "- Фильм Saving Private Ryan (1998), вклад в скор: 0.0374\n",
      "- Фильм Star Wars: Episode V - The Empire Strikes Back (1980), вклад в скор: 0.0361\n",
      "- Фильм Godfather, The (1972), вклад в скор: 0.0359\n",
      "- Фильм Jurassic Park (1993), вклад в скор: 0.0358\n",
      "\n",
      "Фильм-рекомендация: Schindler's List (1993) (Drama|War)\n",
      "Общий вклад всех просмотренных фильмов: 0.8092\n",
      "Влияющие фильмы (топ-5):\n",
      "- Фильм Saving Private Ryan (1998), вклад в скор: 0.0473\n",
      "- Фильм American Beauty (1999), вклад в скор: 0.0456\n",
      "- Фильм Pulp Fiction (1994), вклад в скор: 0.0440\n",
      "- Фильм GoodFellas (1990), вклад в скор: 0.0402\n",
      "- Фильм Godfather, The (1972), вклад в скор: 0.0387\n",
      "\n",
      "------------------------------------------------------------\n",
      "\n",
      "Объяснение рекомендаций для юзера 4541\n",
      "\n",
      "Фильм-рекомендация: Snow White and the Seven Dwarfs (1937) (Animation|Children's|Musical)\n",
      "Общий вклад всех просмотренных фильмов: 0.8029\n",
      "Влияющие фильмы (топ-5):\n",
      "- Фильм Mulan (1998), вклад в скор: 0.0314\n",
      "- Фильм Hercules (1997), вклад в скор: 0.0264\n",
      "- Фильм Beauty and the Beast (1991), вклад в скор: 0.0263\n",
      "- Фильм Lion King, The (1994), вклад в скор: 0.0228\n",
      "- Фильм Sword in the Stone, The (1963), вклад в скор: 0.0203\n",
      "\n",
      "Фильм-рекомендация: Cinderella (1950) (Animation|Children's|Musical)\n",
      "Общий вклад всех просмотренных фильмов: 0.7929\n",
      "Влияющие фильмы (топ-5):\n",
      "- Фильм Mulan (1998), вклад в скор: 0.0318\n",
      "- Фильм Hercules (1997), вклад в скор: 0.0271\n",
      "- Фильм Beauty and the Beast (1991), вклад в скор: 0.0259\n",
      "- Фильм Lion King, The (1994), вклад в скор: 0.0226\n",
      "- Фильм Sword in the Stone, The (1963), вклад в скор: 0.0200\n",
      "\n",
      "Фильм-рекомендация: Back to the Future (1985) (Comedy|Sci-Fi)\n",
      "Общий вклад всех просмотренных фильмов: 0.7689\n",
      "Влияющие фильмы (топ-5):\n",
      "- Фильм Star Wars: Episode IV - A New Hope (1977), вклад в скор: 0.0515\n",
      "- Фильм Star Wars: Episode VI - Return of the Jedi (1983), вклад в скор: 0.0410\n",
      "- Фильм Star Wars: Episode V - The Empire Strikes Back (1980), вклад в скор: 0.0409\n",
      "- Фильм Airplane! (1980), вклад в скор: 0.0391\n",
      "- Фильм Raiders of the Lost Ark (1981), вклад в скор: 0.0364\n",
      "\n",
      "Фильм-рекомендация: Jurassic Park (1993) (Action|Adventure|Sci-Fi)\n",
      "Общий вклад всех просмотренных фильмов: 0.7644\n",
      "Влияющие фильмы (топ-5):\n",
      "- Фильм Matrix, The (1999), вклад в скор: 0.0505\n",
      "- Фильм Star Wars: Episode IV - A New Hope (1977), вклад в скор: 0.0486\n",
      "- Фильм Men in Black (1997), вклад в скор: 0.0422\n",
      "- Фильм Star Wars: Episode VI - Return of the Jedi (1983), вклад в скор: 0.0376\n",
      "- Фильм Star Wars: Episode I - The Phantom Menace (1999), вклад в скор: 0.0365\n",
      "\n",
      "Фильм-рекомендация: Sleeping Beauty (1959) (Animation|Children's|Musical)\n",
      "Общий вклад всех просмотренных фильмов: 0.7570\n",
      "Влияющие фильмы (топ-5):\n",
      "- Фильм Mulan (1998), вклад в скор: 0.0304\n",
      "- Фильм Hercules (1997), вклад в скор: 0.0262\n",
      "- Фильм Beauty and the Beast (1991), вклад в скор: 0.0240\n",
      "- Фильм Lion King, The (1994), вклад в скор: 0.0205\n",
      "- Фильм Sword in the Stone, The (1963), вклад в скор: 0.0197\n",
      "\n",
      "------------------------------------------------------------\n",
      "\n",
      "Объяснение рекомендаций для юзера 878\n",
      "\n",
      "Фильм-рекомендация: Fifth Element, The (1997) (Action|Sci-Fi)\n",
      "Общий вклад всех просмотренных фильмов: 0.6967\n",
      "Влияющие фильмы (топ-5):\n",
      "- Фильм Starship Troopers (1997), вклад в скор: 0.0392\n",
      "- Фильм X-Files: Fight the Future, The (1998), вклад в скор: 0.0363\n",
      "- Фильм Contact (1997), вклад в скор: 0.0326\n",
      "- Фильм Face/Off (1997), вклад в скор: 0.0325\n",
      "- Фильм Dark City (1998), вклад в скор: 0.0319\n",
      "\n",
      "Фильм-рекомендация: Gattaca (1997) (Drama|Sci-Fi|Thriller)\n",
      "Общий вклад всех просмотренных фильмов: 0.6690\n",
      "Влияющие фильмы (топ-5):\n",
      "- Фильм Contact (1997), вклад в скор: 0.0429\n",
      "- Фильм Twelve Monkeys (1995), вклад в скор: 0.0401\n",
      "- Фильм X-Files: Fight the Future, The (1998), вклад в скор: 0.0387\n",
      "- Фильм Dark City (1998), вклад в скор: 0.0346\n",
      "- Фильм Pi (1998), вклад в скор: 0.0323\n",
      "\n",
      "Фильм-рекомендация: Star Trek: First Contact (1996) (Action|Adventure|Sci-Fi)\n",
      "Общий вклад всех просмотренных фильмов: 0.6674\n",
      "Влияющие фильмы (топ-5):\n",
      "- Фильм Contact (1997), вклад в скор: 0.0418\n",
      "- Фильм X-Files: Fight the Future, The (1998), вклад в скор: 0.0404\n",
      "- Фильм Starship Troopers (1997), вклад в скор: 0.0398\n",
      "- Фильм Star Wars: Episode I - The Phantom Menace (1999), вклад в скор: 0.0373\n",
      "- Фильм Twelve Monkeys (1995), вклад в скор: 0.0324\n",
      "\n",
      "Фильм-рекомендация: Terminator 2: Judgment Day (1991) (Action|Sci-Fi|Thriller)\n",
      "Общий вклад всех просмотренных фильмов: 0.6469\n",
      "Влияющие фильмы (топ-5):\n",
      "- Фильм Star Wars: Episode I - The Phantom Menace (1999), вклад в скор: 0.0497\n",
      "- Фильм Jurassic Park (1993), вклад в скор: 0.0478\n",
      "- Фильм Matrix, The (1999), вклад в скор: 0.0464\n",
      "- Фильм X-Men (2000), вклад в скор: 0.0383\n",
      "- Фильм Twelve Monkeys (1995), вклад в скор: 0.0322\n",
      "\n",
      "Фильм-рекомендация: Star Trek: Generations (1994) (Action|Adventure|Sci-Fi)\n",
      "Общий вклад всех просмотренных фильмов: 0.6277\n",
      "Влияющие фильмы (топ-5):\n",
      "- Фильм Starship Troopers (1997), вклад в скор: 0.0385\n",
      "- Фильм X-Files: Fight the Future, The (1998), вклад в скор: 0.0379\n",
      "- Фильм Contact (1997), вклад в скор: 0.0360\n",
      "- Фильм Mars Attacks! (1996), вклад в скор: 0.0327\n",
      "- Фильм Star Wars: Episode I - The Phantom Menace (1999), вклад в скор: 0.0300\n",
      "\n",
      "------------------------------------------------------------\n"
     ]
    }
   ],
   "source": [
    "for user_id, recommendations in explanation_dict.items():\n",
    "    print(f'\\nОбъяснение рекомендаций для юзера {user_id}')\n",
    "    \n",
    "    for rec in recommendations:\n",
    "        rec_title, rec_genre, total_score, influencing_movies = rec\n",
    "        print(f'\\nФильм-рекомендация: {rec_title} ({rec_genre})')\n",
    "        print(f'Общий вклад всех просмотренных фильмов: {total_score:.4f}')\n",
    "        print(f'Влияющие фильмы (топ-5):')\n",
    "        \n",
    "        sorted_influences = sorted(influencing_movies.items(), key=lambda x: -x[1])\n",
    "        for movie, score in sorted_influences[:5]:\n",
    "            print(f'- Фильм {movie}, вклад в скор: {score:.4f}')\n",
    "     \n",
    "    print(\"\\n\" + \"-\"*60)"
   ]
  },
  {
   "cell_type": "markdown",
   "id": "db747af1-99c6-459c-b1f1-2186c9032b9b",
   "metadata": {},
   "source": [
    "Неплохие рекомендации получаются по семейному контенту - мультфильмам (видимо тут очень устойчивая связь, т.к. в первой домашке на другом датасете и с другим алгоритмом получила такие же выводы).\n",
    "\n",
    "Также видно, что если юзер смотрит популярную классику, то высока вероятность, что он посмотрит и другие фильмы, которые можно отнести в эту категорию (Schindler's List, Saving Private Ryan или же Terminator, Jurassic Park, Star Wars)"
   ]
  },
  {
   "cell_type": "markdown",
   "id": "d7d7ea0c-8288-45f5-83d4-9761a8952669",
   "metadata": {},
   "source": [
    "##### Задание 4. До этого мы работали с рейтингами, но как обсуждалось на лекции, implicit ALS отлично работает и с implicit фидбэком. Давайте попробуем преобразовать наш датасет(трейн и тест) следующим образом\n",
    "\n",
    "1. Бинаризуем все рейтинги(заменим любую интеракцию пользователя на 1)\n",
    "2. Заменим на 1 только рейтинги 4 и 5, а рейтинг ниже 4 заменим на 0\n",
    "3. Заменим на 1 только рейтинги 4 и 5, а рейтинг ниже 4 заменим на -1\n",
    "4. Заменим на 1 только рейтинги 4 и 5, а рейтинг ниже 4 заменим на -1 и добавим сглаживание по времени. То есть чем дальше была интеракция от максимальной даты трейна, тем с меньшим весом мы будем ее учитывать(например можно интеракции за последний месяц брать в исходном виде, и с каждым месяцем в прошлое умножать их на какой-нибудь коэффициент меньший 1). Таким образом более старые интеракции пользователя будут вносить меньший вклад в его интересы\n",
    "5. Придумайте свой вариант(опционально)\n",
    "\n",
    "Для каждой полученной матрицы обучите iALS и SVD и сравните их результаты между собой(преобразовывать нужно только обучающую выборку, тестовую оставляем неизменной)"
   ]
  },
  {
   "cell_type": "markdown",
   "id": "c5aabeba-393f-4d80-9f9a-6e28cfefc714",
   "metadata": {},
   "source": [
    "__1. Бинаризуем все рейтинги(заменим любую интеракцию пользователя на 1)__"
   ]
  },
  {
   "cell_type": "code",
   "execution_count": 52,
   "id": "c839fd09-eca4-43e0-a209-2da63775f79f",
   "metadata": {},
   "outputs": [
    {
     "data": {
      "text/html": [
       "<div>\n",
       "<style scoped>\n",
       "    .dataframe tbody tr th:only-of-type {\n",
       "        vertical-align: middle;\n",
       "    }\n",
       "\n",
       "    .dataframe tbody tr th {\n",
       "        vertical-align: top;\n",
       "    }\n",
       "\n",
       "    .dataframe thead th {\n",
       "        text-align: right;\n",
       "    }\n",
       "</style>\n",
       "<table border=\"1\" class=\"dataframe\">\n",
       "  <thead>\n",
       "    <tr style=\"text-align: right;\">\n",
       "      <th></th>\n",
       "      <th>user_id</th>\n",
       "      <th>item_id</th>\n",
       "      <th>rating</th>\n",
       "      <th>datetime</th>\n",
       "    </tr>\n",
       "  </thead>\n",
       "  <tbody>\n",
       "    <tr>\n",
       "      <th>100409</th>\n",
       "      <td>0</td>\n",
       "      <td>2994</td>\n",
       "      <td>1</td>\n",
       "      <td>2000-11-30 23:49:23</td>\n",
       "    </tr>\n",
       "    <tr>\n",
       "      <th>100411</th>\n",
       "      <td>0</td>\n",
       "      <td>929</td>\n",
       "      <td>1</td>\n",
       "      <td>2000-11-30 23:52:33</td>\n",
       "    </tr>\n",
       "    <tr>\n",
       "      <th>100412</th>\n",
       "      <td>0</td>\n",
       "      <td>567</td>\n",
       "      <td>1</td>\n",
       "      <td>2000-11-30 23:51:54</td>\n",
       "    </tr>\n",
       "    <tr>\n",
       "      <th>100415</th>\n",
       "      <td>0</td>\n",
       "      <td>3005</td>\n",
       "      <td>1</td>\n",
       "      <td>2000-11-30 23:58:06</td>\n",
       "    </tr>\n",
       "    <tr>\n",
       "      <th>100416</th>\n",
       "      <td>0</td>\n",
       "      <td>3006</td>\n",
       "      <td>1</td>\n",
       "      <td>2000-11-30 23:57:50</td>\n",
       "    </tr>\n",
       "  </tbody>\n",
       "</table>\n",
       "</div>"
      ],
      "text/plain": [
       "        user_id  item_id  rating            datetime\n",
       "100409        0     2994       1 2000-11-30 23:49:23\n",
       "100411        0      929       1 2000-11-30 23:52:33\n",
       "100412        0      567       1 2000-11-30 23:51:54\n",
       "100415        0     3005       1 2000-11-30 23:58:06\n",
       "100416        0     3006       1 2000-11-30 23:57:50"
      ]
     },
     "execution_count": 52,
     "metadata": {},
     "output_type": "execute_result"
    }
   ],
   "source": [
    "df_train_binary = df_train.copy()\n",
    "df_train_binary['rating'] = 1\n",
    "df_train_binary.head()"
   ]
  },
  {
   "cell_type": "code",
   "execution_count": 53,
   "id": "22ea2b1e-e034-4ff7-811b-409428d03594",
   "metadata": {},
   "outputs": [
    {
     "data": {
      "application/vnd.jupyter.widget-view+json": {
       "model_id": "3bb3ca2b2b97461a9114b15594466b05",
       "version_major": 2,
       "version_minor": 0
      },
      "text/plain": [
       "  0%|          | 0/15 [00:00<?, ?it/s]"
      ]
     },
     "metadata": {},
     "output_type": "display_data"
    },
    {
     "name": "stdout",
     "output_type": "stream",
     "text": [
      "SVD NDCG: 0.44042027478672563\n",
      "ALS NDCG: 0.5293678050567191\n"
     ]
    }
   ],
   "source": [
    "interactions_binary = df_to_matrix(df_train_binary)\n",
    "predictions_svd_binary = make_svd_recommendations(interactions_binary, 10, 100) \n",
    "predictions_als_binary, als_binary = make_als_recommendations(interactions_binary, 100, **best_params) \n",
    "        \n",
    "ndcg_svd_binary = evaluate_recommender(df_test, predictions_svd_binary)\n",
    "ndcg_als_binary = evaluate_recommender(df_test, predictions_als_binary)\n",
    "\n",
    "print(f'SVD NDCG: {ndcg_svd_binary}\\nALS NDCG: {ndcg_als_binary}')"
   ]
  },
  {
   "cell_type": "markdown",
   "id": "7a161828-fcc9-437a-8cc0-934135f3c78f",
   "metadata": {},
   "source": [
    "__2. Заменим на 1 только рейтинги 4 и 5, а рейтинг ниже 4 заменим на 0__"
   ]
  },
  {
   "cell_type": "code",
   "execution_count": 54,
   "id": "e95e34bc-40c3-41ac-85b5-5d155867411f",
   "metadata": {},
   "outputs": [
    {
     "data": {
      "text/html": [
       "<div>\n",
       "<style scoped>\n",
       "    .dataframe tbody tr th:only-of-type {\n",
       "        vertical-align: middle;\n",
       "    }\n",
       "\n",
       "    .dataframe tbody tr th {\n",
       "        vertical-align: top;\n",
       "    }\n",
       "\n",
       "    .dataframe thead th {\n",
       "        text-align: right;\n",
       "    }\n",
       "</style>\n",
       "<table border=\"1\" class=\"dataframe\">\n",
       "  <thead>\n",
       "    <tr style=\"text-align: right;\">\n",
       "      <th></th>\n",
       "      <th>user_id</th>\n",
       "      <th>item_id</th>\n",
       "      <th>rating</th>\n",
       "      <th>datetime</th>\n",
       "    </tr>\n",
       "  </thead>\n",
       "  <tbody>\n",
       "    <tr>\n",
       "      <th>100409</th>\n",
       "      <td>0</td>\n",
       "      <td>2994</td>\n",
       "      <td>0</td>\n",
       "      <td>2000-11-30 23:49:23</td>\n",
       "    </tr>\n",
       "    <tr>\n",
       "      <th>100411</th>\n",
       "      <td>0</td>\n",
       "      <td>929</td>\n",
       "      <td>1</td>\n",
       "      <td>2000-11-30 23:52:33</td>\n",
       "    </tr>\n",
       "    <tr>\n",
       "      <th>100412</th>\n",
       "      <td>0</td>\n",
       "      <td>567</td>\n",
       "      <td>1</td>\n",
       "      <td>2000-11-30 23:51:54</td>\n",
       "    </tr>\n",
       "    <tr>\n",
       "      <th>100415</th>\n",
       "      <td>0</td>\n",
       "      <td>3005</td>\n",
       "      <td>0</td>\n",
       "      <td>2000-11-30 23:58:06</td>\n",
       "    </tr>\n",
       "    <tr>\n",
       "      <th>100416</th>\n",
       "      <td>0</td>\n",
       "      <td>3006</td>\n",
       "      <td>1</td>\n",
       "      <td>2000-11-30 23:57:50</td>\n",
       "    </tr>\n",
       "  </tbody>\n",
       "</table>\n",
       "</div>"
      ],
      "text/plain": [
       "        user_id  item_id  rating            datetime\n",
       "100409        0     2994       0 2000-11-30 23:49:23\n",
       "100411        0      929       1 2000-11-30 23:52:33\n",
       "100412        0      567       1 2000-11-30 23:51:54\n",
       "100415        0     3005       0 2000-11-30 23:58:06\n",
       "100416        0     3006       1 2000-11-30 23:57:50"
      ]
     },
     "execution_count": 54,
     "metadata": {},
     "output_type": "execute_result"
    }
   ],
   "source": [
    "df_train_binary_positive = df_train.copy()\n",
    "df_train_binary_positive['rating'] = (df_train_binary_positive.rating >= 4).astype(int)\n",
    "df_train_binary_positive.head()"
   ]
  },
  {
   "cell_type": "code",
   "execution_count": 55,
   "id": "cfa4574c-7298-4bcc-a228-217866b67216",
   "metadata": {},
   "outputs": [
    {
     "data": {
      "application/vnd.jupyter.widget-view+json": {
       "model_id": "cb0582b6a09c477095fa32f238b242ca",
       "version_major": 2,
       "version_minor": 0
      },
      "text/plain": [
       "  0%|          | 0/15 [00:00<?, ?it/s]"
      ]
     },
     "metadata": {},
     "output_type": "display_data"
    },
    {
     "name": "stdout",
     "output_type": "stream",
     "text": [
      "SVD NDCG: 0.42691466554507485\n",
      "ALS NDCG: 0.4970547463045566\n"
     ]
    }
   ],
   "source": [
    "interactions_binary_positive = df_to_matrix(df_train_binary_positive)\n",
    "predictions_svd_binary_positive = make_svd_recommendations(interactions_binary_positive, 10, 100) \n",
    "predictions_als_binary_positive, als_binary_positive = make_als_recommendations(interactions_binary_positive, 100, **best_params) \n",
    "        \n",
    "ndcg_svd_binary_positive = evaluate_recommender(df_test, predictions_svd_binary_positive)\n",
    "ndcg_als_binary_positive = evaluate_recommender(df_test, predictions_als_binary_positive)\n",
    "\n",
    "print(f'SVD NDCG: {ndcg_svd_binary_positive}\\nALS NDCG: {ndcg_als_binary_positive}')"
   ]
  },
  {
   "cell_type": "markdown",
   "id": "624e0680-ce4f-4ff2-8915-65ef71d8d190",
   "metadata": {},
   "source": [
    "__3. Заменим на 1 только рейтинги 4 и 5, а рейтинг ниже 4 заменим на -1__"
   ]
  },
  {
   "cell_type": "code",
   "execution_count": 56,
   "id": "3645df32-1283-4b9f-87e8-9b9088ce07c3",
   "metadata": {},
   "outputs": [
    {
     "data": {
      "text/html": [
       "<div>\n",
       "<style scoped>\n",
       "    .dataframe tbody tr th:only-of-type {\n",
       "        vertical-align: middle;\n",
       "    }\n",
       "\n",
       "    .dataframe tbody tr th {\n",
       "        vertical-align: top;\n",
       "    }\n",
       "\n",
       "    .dataframe thead th {\n",
       "        text-align: right;\n",
       "    }\n",
       "</style>\n",
       "<table border=\"1\" class=\"dataframe\">\n",
       "  <thead>\n",
       "    <tr style=\"text-align: right;\">\n",
       "      <th></th>\n",
       "      <th>user_id</th>\n",
       "      <th>item_id</th>\n",
       "      <th>rating</th>\n",
       "      <th>datetime</th>\n",
       "    </tr>\n",
       "  </thead>\n",
       "  <tbody>\n",
       "    <tr>\n",
       "      <th>100409</th>\n",
       "      <td>0</td>\n",
       "      <td>2994</td>\n",
       "      <td>-1</td>\n",
       "      <td>2000-11-30 23:49:23</td>\n",
       "    </tr>\n",
       "    <tr>\n",
       "      <th>100411</th>\n",
       "      <td>0</td>\n",
       "      <td>929</td>\n",
       "      <td>1</td>\n",
       "      <td>2000-11-30 23:52:33</td>\n",
       "    </tr>\n",
       "    <tr>\n",
       "      <th>100412</th>\n",
       "      <td>0</td>\n",
       "      <td>567</td>\n",
       "      <td>1</td>\n",
       "      <td>2000-11-30 23:51:54</td>\n",
       "    </tr>\n",
       "    <tr>\n",
       "      <th>100415</th>\n",
       "      <td>0</td>\n",
       "      <td>3005</td>\n",
       "      <td>-1</td>\n",
       "      <td>2000-11-30 23:58:06</td>\n",
       "    </tr>\n",
       "    <tr>\n",
       "      <th>100416</th>\n",
       "      <td>0</td>\n",
       "      <td>3006</td>\n",
       "      <td>1</td>\n",
       "      <td>2000-11-30 23:57:50</td>\n",
       "    </tr>\n",
       "  </tbody>\n",
       "</table>\n",
       "</div>"
      ],
      "text/plain": [
       "        user_id  item_id  rating            datetime\n",
       "100409        0     2994      -1 2000-11-30 23:49:23\n",
       "100411        0      929       1 2000-11-30 23:52:33\n",
       "100412        0      567       1 2000-11-30 23:51:54\n",
       "100415        0     3005      -1 2000-11-30 23:58:06\n",
       "100416        0     3006       1 2000-11-30 23:57:50"
      ]
     },
     "execution_count": 56,
     "metadata": {},
     "output_type": "execute_result"
    }
   ],
   "source": [
    "df_train_binary_negative = df_train.copy()\n",
    "df_train_binary_negative['rating'] = np.where(df_train_binary_negative['rating'] >= 4, 1, -1)\n",
    "df_train_binary_negative.head()"
   ]
  },
  {
   "cell_type": "code",
   "execution_count": 57,
   "id": "97c6c711-52d9-479e-9c0e-cdd5ebd6eb4e",
   "metadata": {},
   "outputs": [
    {
     "data": {
      "application/vnd.jupyter.widget-view+json": {
       "model_id": "e17c9d48b6ef4c0cae36e27ceb3a1a5e",
       "version_major": 2,
       "version_minor": 0
      },
      "text/plain": [
       "  0%|          | 0/15 [00:00<?, ?it/s]"
      ]
     },
     "metadata": {},
     "output_type": "display_data"
    },
    {
     "name": "stdout",
     "output_type": "stream",
     "text": [
      "SVD NDCG: 0.416562242641588\n",
      "ALS NDCG: 0.5479799682229162\n"
     ]
    }
   ],
   "source": [
    "interactions_binary_negative = df_to_matrix(df_train_binary_negative)\n",
    "predictions_svd_binary_negative = make_svd_recommendations(interactions_binary_negative, 10, 100) \n",
    "predictions_als_binary_negative, als_binary_negative = make_als_recommendations(interactions_binary_negative, 100, **best_params) \n",
    "        \n",
    "ndcg_svd_binary_negative = evaluate_recommender(df_test, predictions_svd_binary_negative)\n",
    "ndcg_als_binary_negative = evaluate_recommender(df_test, predictions_als_binary_negative)\n",
    "\n",
    "print(f'SVD NDCG: {ndcg_svd_binary_negative}\\nALS NDCG: {ndcg_als_binary_negative}')"
   ]
  },
  {
   "cell_type": "markdown",
   "id": "89050310-1429-48b2-9595-2460a07fee52",
   "metadata": {},
   "source": [
    "__4. Заменим на 1 только рейтинги 4 и 5, а рейтинг ниже 4 заменим на -1 и добавим сглаживание по времени__"
   ]
  },
  {
   "cell_type": "code",
   "execution_count": 58,
   "id": "140e9c5d-f5c0-475b-81e2-2f2900087c65",
   "metadata": {},
   "outputs": [
    {
     "data": {
      "text/html": [
       "<div>\n",
       "<style scoped>\n",
       "    .dataframe tbody tr th:only-of-type {\n",
       "        vertical-align: middle;\n",
       "    }\n",
       "\n",
       "    .dataframe tbody tr th {\n",
       "        vertical-align: top;\n",
       "    }\n",
       "\n",
       "    .dataframe thead th {\n",
       "        text-align: right;\n",
       "    }\n",
       "</style>\n",
       "<table border=\"1\" class=\"dataframe\">\n",
       "  <thead>\n",
       "    <tr style=\"text-align: right;\">\n",
       "      <th></th>\n",
       "      <th>user_id</th>\n",
       "      <th>item_id</th>\n",
       "      <th>rating</th>\n",
       "      <th>datetime</th>\n",
       "      <th>month_diff</th>\n",
       "    </tr>\n",
       "  </thead>\n",
       "  <tbody>\n",
       "    <tr>\n",
       "      <th>1000204</th>\n",
       "      <td>5364</td>\n",
       "      <td>814</td>\n",
       "      <td>-0.807983</td>\n",
       "      <td>2000-04-26 02:35:41</td>\n",
       "      <td>7</td>\n",
       "    </tr>\n",
       "    <tr>\n",
       "      <th>1000205</th>\n",
       "      <td>5364</td>\n",
       "      <td>817</td>\n",
       "      <td>0.807983</td>\n",
       "      <td>2000-04-25 23:21:27</td>\n",
       "      <td>7</td>\n",
       "    </tr>\n",
       "    <tr>\n",
       "      <th>1000206</th>\n",
       "      <td>5364</td>\n",
       "      <td>478</td>\n",
       "      <td>0.807983</td>\n",
       "      <td>2000-04-25 23:19:06</td>\n",
       "      <td>7</td>\n",
       "    </tr>\n",
       "    <tr>\n",
       "      <th>1000207</th>\n",
       "      <td>5364</td>\n",
       "      <td>819</td>\n",
       "      <td>0.807983</td>\n",
       "      <td>2000-04-26 02:20:48</td>\n",
       "      <td>7</td>\n",
       "    </tr>\n",
       "    <tr>\n",
       "      <th>1000208</th>\n",
       "      <td>5364</td>\n",
       "      <td>820</td>\n",
       "      <td>0.807983</td>\n",
       "      <td>2000-04-26 02:19:29</td>\n",
       "      <td>7</td>\n",
       "    </tr>\n",
       "  </tbody>\n",
       "</table>\n",
       "</div>"
      ],
      "text/plain": [
       "         user_id  item_id    rating            datetime  month_diff\n",
       "1000204     5364      814 -0.807983 2000-04-26 02:35:41           7\n",
       "1000205     5364      817  0.807983 2000-04-25 23:21:27           7\n",
       "1000206     5364      478  0.807983 2000-04-25 23:19:06           7\n",
       "1000207     5364      819  0.807983 2000-04-26 02:20:48           7\n",
       "1000208     5364      820  0.807983 2000-04-26 02:19:29           7"
      ]
     },
     "execution_count": 58,
     "metadata": {},
     "output_type": "execute_result"
    }
   ],
   "source": [
    "df_train_binary_time_smoothing = df_train.copy()\n",
    "df_train_binary_time_smoothing['rating'] = np.where(df_train_binary_time_smoothing['rating'] >= 4, 1, -1)\n",
    "\n",
    "max_date = df_train_binary_time_smoothing.datetime.max()\n",
    "df_train_binary_time_smoothing['month_diff'] = (max_date - df_train_binary_time_smoothing.datetime).dt.days // 30\n",
    "df_train_binary_time_smoothing['rating'] *= (0.97 ** df_train_binary_time_smoothing.month_diff)\n",
    "\n",
    "df_train_binary_time_smoothing.tail()"
   ]
  },
  {
   "cell_type": "code",
   "execution_count": 59,
   "id": "15625288-de00-4ca8-9e81-a83e88f97919",
   "metadata": {},
   "outputs": [
    {
     "data": {
      "application/vnd.jupyter.widget-view+json": {
       "model_id": "58ab26347fb041b3a7a4b5cc091d3a15",
       "version_major": 2,
       "version_minor": 0
      },
      "text/plain": [
       "  0%|          | 0/15 [00:00<?, ?it/s]"
      ]
     },
     "metadata": {},
     "output_type": "display_data"
    },
    {
     "name": "stdout",
     "output_type": "stream",
     "text": [
      "SVD NDCG: 0.4183289806829838\n",
      "ALS NDCG: 0.5486983118648652\n"
     ]
    }
   ],
   "source": [
    "interactions_time_smth = df_to_matrix(df_train_binary_time_smoothing)\n",
    "predictions_svd_time_smth = make_svd_recommendations(interactions_time_smth, 10, 100) \n",
    "predictions_als_time_smth, als_binary_negative = make_als_recommendations(interactions_time_smth, 100, **best_params) \n",
    "        \n",
    "ndcg_svd_binary_time_smth = evaluate_recommender(df_test, predictions_svd_time_smth)\n",
    "ndcg_als_binary_time_smth = evaluate_recommender(df_test, predictions_als_time_smth)\n",
    "\n",
    "print(f'SVD NDCG: {ndcg_svd_binary_time_smth}\\nALS NDCG: {ndcg_als_binary_time_smth}')"
   ]
  },
  {
   "cell_type": "markdown",
   "id": "20b61344-ee2e-4492-95bc-6521940b905e",
   "metadata": {},
   "source": [
    "__5. Cвой вариант__\n",
    "\n",
    "Считаем медиану оценок скользящим окном за 30 дней поюзерно, бинаризуем как 1 — оценки больше или равные медиане, иначе -1. Таким подходом учитываем склонность каждого из юзеров завышать / занижать оценки."
   ]
  },
  {
   "cell_type": "code",
   "execution_count": 60,
   "id": "cb693675-8bb2-4a4f-8e7b-3a01898bd5b1",
   "metadata": {},
   "outputs": [
    {
     "data": {
      "text/html": [
       "<div>\n",
       "<style scoped>\n",
       "    .dataframe tbody tr th:only-of-type {\n",
       "        vertical-align: middle;\n",
       "    }\n",
       "\n",
       "    .dataframe tbody tr th {\n",
       "        vertical-align: top;\n",
       "    }\n",
       "\n",
       "    .dataframe thead th {\n",
       "        text-align: right;\n",
       "    }\n",
       "</style>\n",
       "<table border=\"1\" class=\"dataframe\">\n",
       "  <thead>\n",
       "    <tr style=\"text-align: right;\">\n",
       "      <th></th>\n",
       "      <th>user_id</th>\n",
       "      <th>item_id</th>\n",
       "      <th>rating</th>\n",
       "      <th>datetime</th>\n",
       "      <th>rolling_median</th>\n",
       "    </tr>\n",
       "  </thead>\n",
       "  <tbody>\n",
       "    <tr>\n",
       "      <th>0</th>\n",
       "      <td>0</td>\n",
       "      <td>2994</td>\n",
       "      <td>1</td>\n",
       "      <td>2000-11-30 23:49:23</td>\n",
       "      <td>3.0</td>\n",
       "    </tr>\n",
       "    <tr>\n",
       "      <th>1</th>\n",
       "      <td>0</td>\n",
       "      <td>929</td>\n",
       "      <td>1</td>\n",
       "      <td>2000-11-30 23:52:33</td>\n",
       "      <td>3.0</td>\n",
       "    </tr>\n",
       "    <tr>\n",
       "      <th>2</th>\n",
       "      <td>0</td>\n",
       "      <td>567</td>\n",
       "      <td>1</td>\n",
       "      <td>2000-11-30 23:51:54</td>\n",
       "      <td>3.5</td>\n",
       "    </tr>\n",
       "    <tr>\n",
       "      <th>3</th>\n",
       "      <td>0</td>\n",
       "      <td>3005</td>\n",
       "      <td>-1</td>\n",
       "      <td>2000-11-30 23:58:06</td>\n",
       "      <td>3.0</td>\n",
       "    </tr>\n",
       "    <tr>\n",
       "      <th>4</th>\n",
       "      <td>0</td>\n",
       "      <td>3006</td>\n",
       "      <td>1</td>\n",
       "      <td>2000-11-30 23:57:50</td>\n",
       "      <td>3.5</td>\n",
       "    </tr>\n",
       "  </tbody>\n",
       "</table>\n",
       "</div>"
      ],
      "text/plain": [
       "   user_id  item_id  rating            datetime  rolling_median\n",
       "0        0     2994       1 2000-11-30 23:49:23             3.0\n",
       "1        0      929       1 2000-11-30 23:52:33             3.0\n",
       "2        0      567       1 2000-11-30 23:51:54             3.5\n",
       "3        0     3005      -1 2000-11-30 23:58:06             3.0\n",
       "4        0     3006       1 2000-11-30 23:57:50             3.5"
      ]
     },
     "execution_count": 60,
     "metadata": {},
     "output_type": "execute_result"
    }
   ],
   "source": [
    "df_train_copy = df_train.copy()\n",
    "df_train_copy = df_train_copy.sort_values(by=['user_id', 'datetime'])\n",
    "\n",
    "df_train_copy['rolling_median'] = df_train_copy.groupby('user_id', group_keys=False).apply(\n",
    "    lambda group: group.set_index('datetime')['rating'].rolling('30D', min_periods=1).median(), include_groups=False) \\\n",
    "    .reset_index(level=0, drop=True)\n",
    "\n",
    "# Для юзеро-периодов, для которых не хватает данных используем общую медиану\n",
    "df_train_copy['rolling_median'] = df_train_copy['rolling_median'].fillna(df_train_copy.rating.median())\n",
    "\n",
    "df_train_rolling_median = df_train.copy()\n",
    "df_train_rolling_median = df_train_rolling_median.merge(df_train_copy[['user_id', 'item_id', 'datetime', 'rolling_median']],\n",
    "                                                        on=['user_id', 'item_id', 'datetime'],\n",
    "                                                        how='left')\n",
    "\n",
    "df_train_rolling_median['rating'] = np.where(df_train_rolling_median.rating >= df_train_rolling_median.rolling_median, 1, -1)\n",
    "\n",
    "df_train_rolling_median.head()"
   ]
  },
  {
   "cell_type": "code",
   "execution_count": 61,
   "id": "faa2cbdb-b530-44d1-b8b3-396d8d4318cf",
   "metadata": {},
   "outputs": [
    {
     "data": {
      "application/vnd.jupyter.widget-view+json": {
       "model_id": "14d90f4d175544d192405a3496886f50",
       "version_major": 2,
       "version_minor": 0
      },
      "text/plain": [
       "  0%|          | 0/15 [00:00<?, ?it/s]"
      ]
     },
     "metadata": {},
     "output_type": "display_data"
    },
    {
     "name": "stdout",
     "output_type": "stream",
     "text": [
      "SVD NDCG: 0.4185460044371856\n",
      "ALS NDCG: 0.5469753378844768\n"
     ]
    }
   ],
   "source": [
    "interactions_rolling_median = df_to_matrix(df_train_rolling_median)\n",
    "predictions_svd_rolling_median = make_svd_recommendations(interactions_rolling_median, 10, 100) \n",
    "predictions_als_rolling_median, als_rolling_median = make_als_recommendations(interactions_rolling_median, 100, **best_params) \n",
    "        \n",
    "ndcg_svd_binary_rolling_median = evaluate_recommender(df_test, predictions_svd_rolling_median)\n",
    "ndcg_als_binary_rolling_median = evaluate_recommender(df_test, predictions_als_rolling_median)\n",
    "\n",
    "print(f'SVD NDCG: {ndcg_svd_binary_rolling_median}\\nALS NDCG: {ndcg_als_binary_rolling_median}')"
   ]
  },
  {
   "cell_type": "markdown",
   "id": "1b9907d2-30ba-41c7-bdb3-b694b7739e21",
   "metadata": {},
   "source": [
    "ALS стабильно обходит SVD на всех вариантах преобразования фидбека"
   ]
  },
  {
   "cell_type": "markdown",
   "id": "ee7a03b1-5072-4bc4-ba46-1fc3c989b888",
   "metadata": {},
   "source": [
    "##### Задание 5. iALS на numpy/torch. Давайте реализуем алгоритм iALS на нумпае или торче. Требуется реализовать алгорит, описанный в 4 части [статьи](http://yifanhu.net/PUB/cf.pdf). Обратите внимания на все оптимизации, которые они описывают в статье, чтобы сократить лишние вычисления. Hint: метрики у вашего алгоритма должны быть сравнимы с метриками ALS из библиотеки implicit"
   ]
  },
  {
   "cell_type": "markdown",
   "id": "428a665c-f5c1-4286-8972-478e5f4c71ff",
   "metadata": {},
   "source": [
    "Комментарии, данные в реализации по преобразованиям, основаны на тексте статьи"
   ]
  },
  {
   "cell_type": "code",
   "execution_count": 62,
   "id": "e6be5f0d-1454-4f15-9dd1-17d1f1f99583",
   "metadata": {},
   "outputs": [],
   "source": [
    "class iALS:\n",
    "    def __init__(self, n_factors: int = 100, alpha: float = 1.0, reg_coef = 0.01):\n",
    "        self.n_factors = n_factors\n",
    "        self.alpha = alpha\n",
    "        self.reg_coef = reg_coef\n",
    "        self.interactions = None\n",
    "        self.item_factors = None\n",
    "        self.user_factors = None\n",
    "\n",
    "    def fit(self, interactions: np.ndarray, n_iterations: int = 10):\n",
    "        self.interactions = interactions\n",
    "        n_users, n_items = self.interactions.shape\n",
    "        # рандомная инициализация факторов для старта\n",
    "        self.item_factors = np.random.normal(0, 1, (n_items, self.n_factors))\n",
    "        self.user_factors = np.random.normal(0, 1, (n_users, self.n_factors))\n",
    "        \n",
    "        I = np.eye(self.n_factors)\n",
    "\n",
    "        for i in range(n_iterations):\n",
    "            YTY = self.item_factors.T @ self.item_factors\n",
    "            \n",
    "            for u in range(n_users):\n",
    "                c_u = 1 + self.alpha * self.interactions[u]\n",
    "                \n",
    "                # В операции (C_u - I) мы вычитаем 2 диагональные матрицы, на выходе получим матрицу с разностью на диагонали.\n",
    "                # Можно оптимизировать вычисления, через np.diag(c_u - 1), \n",
    "                # но т.к. c_u = 1 + self.alpha * self.interactions[u], после разницы останется self.alpha * self.interactions[u],\n",
    "                # поэтому сразу используем этот вывод в реализации.\n",
    "                # Ниже выведена еще одна оптимизация, поэтому Cu_minus_I становится не актуальной, закомментировала ее\n",
    "                # Cu_minus_I = np.diag(self.alpha * self.interactions[u])\n",
    "\n",
    "                # Используем свойство ассоциативности матричного умножения, \n",
    "                # тогда Cu_minus_I @ self.item_factors — произведение диагональной матрицы на вектор, даст нам на выходе вектор,\n",
    "                # равный (self.alpha * self.interactions[u]) * self.item_factors.\n",
    "                # Произведем замену, т.к. это ускорит время выполнения (не забыв привести в форму вертикального вектора).\n",
    "                YTCY = YTY + self.item_factors.T @ ((self.alpha * self.interactions[u])[:, np.newaxis] * self.item_factors) \n",
    "                \n",
    "                # В операции присутствует умножение диагональной матрицы C_u на вектор, на выходе получим вектор,\n",
    "                # поэтому сразу запишем эту часть как перемножение векторов.\n",
    "                # np.linalg.inv() работает медленнее, чем np.linalg.solve(), \n",
    "                # при этом, умножение обратной матрицы A на матрицу B — есть по сути нахожедения значений X\n",
    "                # для системы линейных уравнений. Поэтому заменим операцию умножения на операцию np.linalg.solve().\n",
    "                x_u = np.linalg.solve(YTCY + self.reg_coef * I, self.item_factors.T @ (c_u * self.interactions[u])[:, np.newaxis])\n",
    "                                      \n",
    "                self.user_factors[u, :] = x_u.ravel()\n",
    "    \n",
    "            XTX = self.user_factors.T @ self.user_factors\n",
    "            \n",
    "            for i in range(n_items):\n",
    "                # Использованы все выводы по оптимизации выше\n",
    "                c_i = 1 + self.alpha * self.interactions[:, i]\n",
    "                #Ci_minus_I = np.diag(self.alpha * self.interactions[:, i])\n",
    "                XTXY = XTX + self.user_factors.T @ ((self.alpha * self.interactions[:, i])[:, np.newaxis] * self.user_factors)\n",
    "                y_i = np.linalg.solve(XTXY + self.reg_coef * I, self.user_factors.T @ (c_i * self.interactions[:, i])[:, np.newaxis])\n",
    "    \n",
    "                self.item_factors[i, :] = y_i.ravel()\n",
    "        \n",
    "\n",
    "    def predict(self, top_k: int = 100):\n",
    "        predicts = self.user_factors @ self.item_factors.T\n",
    "        predicts = np.where(self.interactions > 0, -np.inf, predicts)\n",
    "        \n",
    "        predicts_k = np.argsort(-predicts, axis=1)[:, :top_k]\n",
    "\n",
    "        return predicts_k"
   ]
  },
  {
   "cell_type": "code",
   "execution_count": 63,
   "id": "a225cd54-1199-441c-9e51-89912b9781dd",
   "metadata": {},
   "outputs": [
    {
     "name": "stdout",
     "output_type": "stream",
     "text": [
      "64.7342140674591\n"
     ]
    }
   ],
   "source": [
    "custom_iasl = iALS()\n",
    "\n",
    "start_time = time.time()\n",
    "custom_iasl.fit(interactions)\n",
    "duration = time.time() - start_time\n",
    "print(duration)"
   ]
  },
  {
   "cell_type": "code",
   "execution_count": 64,
   "id": "3f64914b-06e9-4882-adbe-19f74b5ce0bb",
   "metadata": {},
   "outputs": [
    {
     "data": {
      "text/plain": [
       "np.float64(0.5113545170570705)"
      ]
     },
     "execution_count": 64,
     "metadata": {},
     "output_type": "execute_result"
    }
   ],
   "source": [
    "custom_iasl_recs = custom_iasl.predict()\n",
    "evaluate_recommender(df_test, custom_iasl_recs)"
   ]
  },
  {
   "cell_type": "code",
   "execution_count": 66,
   "id": "a9aa65d7-11dc-48d9-a270-8d0a6d96f28e",
   "metadata": {},
   "outputs": [
    {
     "name": "stdout",
     "output_type": "stream",
     "text": [
      "6.739367961883545\n"
     ]
    }
   ],
   "source": [
    "custom_iasl_best_params = iALS(n_factors=best_params['n_factors'], alpha=best_params['alpha'], reg_coef=best_params['regularization'])\n",
    "\n",
    "start_time = time.time()\n",
    "custom_iasl_best_params.fit(interactions)\n",
    "duration = time.time() - start_time\n",
    "print(duration)"
   ]
  },
  {
   "cell_type": "code",
   "execution_count": 67,
   "id": "5b19d8ae-da5a-48dd-8231-759a55d746b8",
   "metadata": {},
   "outputs": [],
   "source": [
    "custom_iasl_recs_best_params = custom_iasl_best_params.predict()"
   ]
  },
  {
   "cell_type": "code",
   "execution_count": 68,
   "id": "2a0ee54a-47a0-45bf-b580-619838b357d9",
   "metadata": {},
   "outputs": [
    {
     "data": {
      "text/plain": [
       "np.float64(0.5455335130264963)"
      ]
     },
     "execution_count": 68,
     "metadata": {},
     "output_type": "execute_result"
    }
   ],
   "source": [
    "evaluate_recommender(df_test, custom_iasl_recs_best_params)"
   ]
  },
  {
   "cell_type": "markdown",
   "id": "5cbff8ea-db99-477b-abd1-9a2438b65da0",
   "metadata": {},
   "source": [
    "Метрики сравнимы с библиотечной реализацией"
   ]
  },
  {
   "cell_type": "code",
   "execution_count": null,
   "id": "1ee9a7b4-3054-4ad7-84ad-0b7513a087f9",
   "metadata": {},
   "outputs": [],
   "source": []
  }
 ],
 "metadata": {
  "kernelspec": {
   "display_name": "Python (test_env)",
   "language": "python",
   "name": "test_env"
  },
  "language_info": {
   "codemirror_mode": {
    "name": "ipython",
    "version": 3
   },
   "file_extension": ".py",
   "mimetype": "text/x-python",
   "name": "python",
   "nbconvert_exporter": "python",
   "pygments_lexer": "ipython3",
   "version": "3.13.0"
  }
 },
 "nbformat": 4,
 "nbformat_minor": 5
}
